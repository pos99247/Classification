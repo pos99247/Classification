{
 "cells": [
  {
   "cell_type": "code",
   "execution_count": 74,
   "id": "revised-fields",
   "metadata": {},
   "outputs": [],
   "source": [
    "import pandas as pd\n",
    "import numpy as np\n",
    "import matplotlib.pyplot as plt\n",
    "import seaborn as sns"
   ]
  },
  {
   "cell_type": "code",
   "execution_count": 3,
   "id": "irish-leisure",
   "metadata": {},
   "outputs": [],
   "source": [
    "df = pd.read_csv(r'C:\\Users\\brian\\Classification\\data\\all_feature_data.csv')"
   ]
  },
  {
   "cell_type": "code",
   "execution_count": 7,
   "id": "vertical-politics",
   "metadata": {},
   "outputs": [],
   "source": [
    "ticker_list = list(df['ticker'].unique())"
   ]
  },
  {
   "cell_type": "code",
   "execution_count": 9,
   "id": "chemical-public",
   "metadata": {},
   "outputs": [],
   "source": [
    "test_set = pd.DataFrame()\n",
    "validation_set = pd.DataFrame()\n",
    "train_set = pd.DataFrame()\n",
    "for ticker in ticker_list:\n",
    "    single_ticker_df = df[df['ticker']==ticker]\n",
    "    train_set = train_set.append(single_ticker_df[:420])\n",
    "    validation_set = validation_set.append(single_ticker_df[420:561])\n",
    "    test_set = test_set.append(single_ticker_df[561:])"
   ]
  },
  {
   "cell_type": "code",
   "execution_count": 60,
   "id": "collect-dressing",
   "metadata": {},
   "outputs": [],
   "source": [
    "X_test = test_set[['Open', 'High', 'Low', 'Close', 'Adj Close', 'Volume',\n",
    "       'volume_adi', 'volume_obv', 'volume_cmf', 'volume_fi', 'volume_mfi',\n",
    "       'volume_em', 'volume_sma_em', 'volume_vpt', 'volume_nvi', 'volume_vwap',\n",
    "       'volatility_atr', 'volatility_bbm', 'volatility_bbh', 'volatility_bbl',\n",
    "       'volatility_bbw', 'volatility_bbp', 'volatility_bbhi',\n",
    "       'volatility_bbli', 'volatility_kcc', 'volatility_kch', 'volatility_kcl',\n",
    "       'volatility_kcw', 'volatility_kcp', 'volatility_kchi',\n",
    "       'volatility_kcli', 'volatility_dcl', 'volatility_dch', 'volatility_dcm',\n",
    "       'volatility_dcw', 'volatility_dcp', 'volatility_ui', 'trend_macd',\n",
    "       'trend_macd_signal', 'trend_macd_diff', 'trend_sma_fast',\n",
    "       'trend_sma_slow', 'trend_ema_fast', 'trend_ema_slow', 'trend_adx',\n",
    "       'trend_adx_pos', 'trend_adx_neg', 'trend_vortex_ind_pos',\n",
    "       'trend_vortex_ind_neg', 'trend_vortex_ind_diff', 'trend_trix',\n",
    "       'trend_mass_index', 'trend_cci', 'trend_dpo', 'trend_kst',\n",
    "       'trend_kst_sig', 'trend_kst_diff', 'trend_ichimoku_conv',\n",
    "       'trend_ichimoku_base', 'trend_ichimoku_a', 'trend_ichimoku_b',\n",
    "       'trend_visual_ichimoku_a', 'trend_visual_ichimoku_b', 'trend_aroon_up',\n",
    "       'trend_aroon_down', 'trend_aroon_ind', 'trend_psar_up_indicator',\n",
    "       'trend_psar_down_indicator', 'momentum_rsi', 'momentum_stoch_rsi',\n",
    "       'momentum_stoch_rsi_k', 'momentum_stoch_rsi_d', 'momentum_tsi',\n",
    "       'momentum_uo', 'momentum_stoch', 'momentum_stoch_signal', 'momentum_wr',\n",
    "       'momentum_ao', 'momentum_kama', 'momentum_roc', 'momentum_ppo',\n",
    "       'momentum_ppo_signal', 'momentum_ppo_hist', 'others_dr', 'others_dlr',\n",
    "       'others_cr']]\n",
    "X_val = validation_set[['Open', 'High', 'Low', 'Close', 'Adj Close', 'Volume',\n",
    "       'volume_adi', 'volume_obv', 'volume_cmf', 'volume_fi', 'volume_mfi',\n",
    "       'volume_em', 'volume_sma_em', 'volume_vpt', 'volume_nvi', 'volume_vwap',\n",
    "       'volatility_atr', 'volatility_bbm', 'volatility_bbh', 'volatility_bbl',\n",
    "       'volatility_bbw', 'volatility_bbp', 'volatility_bbhi',\n",
    "       'volatility_bbli', 'volatility_kcc', 'volatility_kch', 'volatility_kcl',\n",
    "       'volatility_kcw', 'volatility_kcp', 'volatility_kchi',\n",
    "       'volatility_kcli', 'volatility_dcl', 'volatility_dch', 'volatility_dcm',\n",
    "       'volatility_dcw', 'volatility_dcp', 'volatility_ui', 'trend_macd',\n",
    "       'trend_macd_signal', 'trend_macd_diff', 'trend_sma_fast',\n",
    "       'trend_sma_slow', 'trend_ema_fast', 'trend_ema_slow', 'trend_adx',\n",
    "       'trend_adx_pos', 'trend_adx_neg', 'trend_vortex_ind_pos',\n",
    "       'trend_vortex_ind_neg', 'trend_vortex_ind_diff', 'trend_trix',\n",
    "       'trend_mass_index', 'trend_cci', 'trend_dpo', 'trend_kst',\n",
    "       'trend_kst_sig', 'trend_kst_diff', 'trend_ichimoku_conv',\n",
    "       'trend_ichimoku_base', 'trend_ichimoku_a', 'trend_ichimoku_b',\n",
    "       'trend_visual_ichimoku_a', 'trend_visual_ichimoku_b', 'trend_aroon_up',\n",
    "       'trend_aroon_down', 'trend_aroon_ind', 'trend_psar_up_indicator',\n",
    "       'trend_psar_down_indicator', 'momentum_rsi', 'momentum_stoch_rsi',\n",
    "       'momentum_stoch_rsi_k', 'momentum_stoch_rsi_d', 'momentum_tsi',\n",
    "       'momentum_uo', 'momentum_stoch', 'momentum_stoch_signal', 'momentum_wr',\n",
    "       'momentum_ao', 'momentum_kama', 'momentum_roc', 'momentum_ppo',\n",
    "       'momentum_ppo_signal', 'momentum_ppo_hist', 'others_dr', 'others_dlr',\n",
    "       'others_cr']]\n",
    "X_train = train_set[['Open', 'High', 'Low', 'Close', 'Adj Close', 'Volume',\n",
    "       'volume_adi', 'volume_obv', 'volume_cmf', 'volume_fi', 'volume_mfi',\n",
    "       'volume_em', 'volume_sma_em', 'volume_vpt', 'volume_nvi', 'volume_vwap',\n",
    "       'volatility_atr', 'volatility_bbm', 'volatility_bbh', 'volatility_bbl',\n",
    "       'volatility_bbw', 'volatility_bbp', 'volatility_bbhi',\n",
    "       'volatility_bbli', 'volatility_kcc', 'volatility_kch', 'volatility_kcl',\n",
    "       'volatility_kcw', 'volatility_kcp', 'volatility_kchi',\n",
    "       'volatility_kcli', 'volatility_dcl', 'volatility_dch', 'volatility_dcm',\n",
    "       'volatility_dcw', 'volatility_dcp', 'volatility_ui', 'trend_macd',\n",
    "       'trend_macd_signal', 'trend_macd_diff', 'trend_sma_fast',\n",
    "       'trend_sma_slow', 'trend_ema_fast', 'trend_ema_slow', 'trend_adx',\n",
    "       'trend_adx_pos', 'trend_adx_neg', 'trend_vortex_ind_pos',\n",
    "       'trend_vortex_ind_neg', 'trend_vortex_ind_diff', 'trend_trix',\n",
    "       'trend_mass_index', 'trend_cci', 'trend_dpo', 'trend_kst',\n",
    "       'trend_kst_sig', 'trend_kst_diff', 'trend_ichimoku_conv',\n",
    "       'trend_ichimoku_base', 'trend_ichimoku_a', 'trend_ichimoku_b',\n",
    "       'trend_visual_ichimoku_a', 'trend_visual_ichimoku_b', 'trend_aroon_up',\n",
    "       'trend_aroon_down', 'trend_aroon_ind', 'trend_psar_up_indicator',\n",
    "       'trend_psar_down_indicator', 'momentum_rsi', 'momentum_stoch_rsi',\n",
    "       'momentum_stoch_rsi_k', 'momentum_stoch_rsi_d', 'momentum_tsi',\n",
    "       'momentum_uo', 'momentum_stoch', 'momentum_stoch_signal', 'momentum_wr',\n",
    "       'momentum_ao', 'momentum_kama', 'momentum_roc', 'momentum_ppo',\n",
    "       'momentum_ppo_signal', 'momentum_ppo_hist', 'others_dr', 'others_dlr',\n",
    "       'others_cr']]\n",
    "y_test = test_set[['trend']]\n",
    "y_val = validation_set[['trend']]\n",
    "y_train = train_set[['trend']]"
   ]
  },
  {
   "cell_type": "code",
   "execution_count": 180,
   "id": "identified-special",
   "metadata": {},
   "outputs": [],
   "source": [
    "X_train_val = X_train.append(X_val)\n",
    "y_train_val = y_train.append(y_val)"
   ]
  },
  {
   "cell_type": "markdown",
   "id": "ordered-pitch",
   "metadata": {},
   "source": [
    "## Logistic Regression"
   ]
  },
  {
   "cell_type": "code",
   "execution_count": 79,
   "id": "unlike-influence",
   "metadata": {},
   "outputs": [],
   "source": [
    "import matplotlib.pyplot as plt\n",
    "import seaborn as sns\n",
    "plt.style.use('fivethirtyeight')\n",
    "\n",
    "%matplotlib inline\n",
    "\n",
    "# modeling imports\n",
    "from sklearn.linear_model import LogisticRegression\n",
    "from sklearn.model_selection import train_test_split\n",
    "from sklearn.metrics import precision_score, recall_score, accuracy_score, roc_auc_score\n",
    "from sklearn.metrics import confusion_matrix\n",
    "from sklearn.preprocessing import StandardScaler"
   ]
  },
  {
   "cell_type": "code",
   "execution_count": 84,
   "id": "electric-federation",
   "metadata": {},
   "outputs": [
    {
     "name": "stderr",
     "output_type": "stream",
     "text": [
      "C:\\Users\\brian\\.conda\\envs\\metis\\lib\\site-packages\\sklearn\\utils\\validation.py:63: DataConversionWarning: A column-vector y was passed when a 1d array was expected. Please change the shape of y to (n_samples, ), for example using ravel().\n",
      "  return f(*args, **kwargs)\n"
     ]
    },
    {
     "name": "stdout",
     "output_type": "stream",
     "text": [
      "train score:  0.5335132618054301\n",
      "val score:  0.5423243081397836\n"
     ]
    }
   ],
   "source": [
    "lm = LogisticRegression(C=10000)\n",
    "lm.fit(X_train, y_train)\n",
    "print('train score: ', lm.score(X_train, y_train))\n",
    "print('val score: ', lm.score(X_val, y_val))"
   ]
  },
  {
   "cell_type": "code",
   "execution_count": 85,
   "id": "instant-soldier",
   "metadata": {},
   "outputs": [
    {
     "data": {
      "text/plain": [
       "GridSearchCV(estimator=LogisticRegression(),\n",
       "             param_grid={'C': [0.001, 0.009, 0.01, 0.09, 1, 5, 10, 25]},\n",
       "             scoring='accuracy')"
      ]
     },
     "execution_count": 85,
     "metadata": {},
     "output_type": "execute_result"
    }
   ],
   "source": [
    "from sklearn.model_selection import GridSearchCV\n",
    "clf = LogisticRegression()\n",
    "grid_values = {'C':[0.001,.009,0.01,.09,1,5,10,25]}\n",
    "grid_clf_acc = GridSearchCV(clf, param_grid = grid_values, scoring = 'accuracy')\n",
    "grid_clf_acc.fit(X_train, y_train.values.ravel())"
   ]
  },
  {
   "cell_type": "code",
   "execution_count": 86,
   "id": "above-debate",
   "metadata": {},
   "outputs": [
    {
     "data": {
      "text/plain": [
       "0.5335132618054301"
      ]
     },
     "execution_count": 86,
     "metadata": {},
     "output_type": "execute_result"
    }
   ],
   "source": [
    "grid_clf_acc.score(X_train, y_train)"
   ]
  },
  {
   "cell_type": "code",
   "execution_count": 87,
   "id": "north-jenny",
   "metadata": {},
   "outputs": [
    {
     "data": {
      "text/plain": [
       "0.5423243081397836"
      ]
     },
     "execution_count": 87,
     "metadata": {},
     "output_type": "execute_result"
    }
   ],
   "source": [
    "grid_clf_acc.score(X_val, y_val)"
   ]
  },
  {
   "cell_type": "code",
   "execution_count": 106,
   "id": "informational-turner",
   "metadata": {},
   "outputs": [
    {
     "name": "stdout",
     "output_type": "stream",
     "text": [
      "Feature: 0, Score: -0.02194\n",
      "Feature: 1, Score: -0.03046\n",
      "Feature: 2, Score: 0.06035\n",
      "Feature: 3, Score: -0.04193\n",
      "Feature: 4, Score: 0.02700\n",
      "Feature: 5, Score: -0.00102\n",
      "Feature: 6, Score: 0.06406\n",
      "Feature: 7, Score: -0.05148\n",
      "Feature: 8, Score: -0.09494\n",
      "Feature: 9, Score: -0.01271\n",
      "Feature: 10, Score: 0.00811\n",
      "Feature: 11, Score: -0.00090\n",
      "Feature: 12, Score: -0.00322\n",
      "Feature: 13, Score: 0.00865\n",
      "Feature: 14, Score: -0.01560\n",
      "Feature: 15, Score: 0.03428\n",
      "Feature: 16, Score: 0.00052\n",
      "Feature: 17, Score: -0.03397\n",
      "Feature: 18, Score: -0.09338\n",
      "Feature: 19, Score: 0.03184\n",
      "Feature: 20, Score: -0.18246\n",
      "Feature: 21, Score: 0.10293\n",
      "Feature: 22, Score: -0.01732\n",
      "Feature: 23, Score: 0.00530\n",
      "Feature: 24, Score: 0.02747\n",
      "Feature: 25, Score: 0.02234\n",
      "Feature: 26, Score: 0.03283\n",
      "Feature: 27, Score: -0.16940\n",
      "Feature: 28, Score: 0.04249\n",
      "Feature: 29, Score: -0.00382\n",
      "Feature: 30, Score: -0.03616\n",
      "Feature: 31, Score: 0.03617\n",
      "Feature: 32, Score: -0.02698\n",
      "Feature: 33, Score: 0.00285\n",
      "Feature: 34, Score: 0.25443\n",
      "Feature: 35, Score: 0.17509\n",
      "Feature: 36, Score: 0.03078\n",
      "Feature: 37, Score: 0.02276\n",
      "Feature: 38, Score: 0.01862\n",
      "Feature: 39, Score: 0.01784\n",
      "Feature: 40, Score: 0.00141\n",
      "Feature: 41, Score: -0.00304\n",
      "Feature: 42, Score: 0.00850\n",
      "Feature: 43, Score: 0.00807\n",
      "Feature: 44, Score: 0.00648\n",
      "Feature: 45, Score: -0.00076\n",
      "Feature: 46, Score: -0.06850\n",
      "Feature: 47, Score: 0.13239\n",
      "Feature: 48, Score: 0.13451\n",
      "Feature: 49, Score: 0.00293\n",
      "Feature: 50, Score: 0.12421\n",
      "Feature: 51, Score: -0.07039\n",
      "Feature: 52, Score: -0.02626\n",
      "Feature: 53, Score: 0.03539\n",
      "Feature: 54, Score: -0.08176\n",
      "Feature: 55, Score: -0.09695\n",
      "Feature: 56, Score: 0.03128\n",
      "Feature: 57, Score: -0.03175\n",
      "Feature: 58, Score: 0.04472\n",
      "Feature: 59, Score: 0.00638\n",
      "Feature: 60, Score: -0.11790\n",
      "Feature: 61, Score: 0.09452\n",
      "Feature: 62, Score: 0.00472\n",
      "Feature: 63, Score: -0.02847\n",
      "Feature: 64, Score: -0.01360\n",
      "Feature: 65, Score: -0.00828\n",
      "Feature: 66, Score: -0.00220\n",
      "Feature: 67, Score: -0.00167\n",
      "Feature: 68, Score: -0.54842\n",
      "Feature: 69, Score: 0.00946\n",
      "Feature: 70, Score: 0.03781\n",
      "Feature: 71, Score: -0.01801\n",
      "Feature: 72, Score: 0.28951\n",
      "Feature: 73, Score: 0.07496\n",
      "Feature: 74, Score: 0.01002\n",
      "Feature: 75, Score: -0.17077\n",
      "Feature: 76, Score: 0.01002\n",
      "Feature: 77, Score: -0.03707\n",
      "Feature: 78, Score: -0.04207\n",
      "Feature: 79, Score: 0.08747\n",
      "Feature: 80, Score: -0.00852\n",
      "Feature: 81, Score: -0.02193\n",
      "Feature: 82, Score: 0.01568\n",
      "Feature: 83, Score: -0.01419\n",
      "Feature: 84, Score: 0.01353\n",
      "Feature: 85, Score: 0.03153\n"
     ]
    },
    {
     "data": {
      "image/png": "[encoded data removed]",
      "text/plain": [
       "<Figure size 432x288 with 1 Axes>"
      ]
     },
     "metadata": {
      "needs_background": "light"
     },
     "output_type": "display_data"
    }
   ],
   "source": [
    "importance = lm.coef_[0]\n",
    "# summarize feature importance\n",
    "for i,v in enumerate(importance):\n",
    "    print('Feature: %0d, Score: %.5f' % (i,v))\n",
    "# plot feature importance\n",
    "plt.bar([x for x in range(len(importance))], importance)\n",
    "plt.show()"
   ]
  },
  {
   "cell_type": "markdown",
   "id": "returning-couple",
   "metadata": {},
   "source": [
    "## Random Forest"
   ]
  },
  {
   "cell_type": "code",
   "execution_count": 76,
   "id": "widespread-poverty",
   "metadata": {},
   "outputs": [],
   "source": [
    "from sklearn.ensemble import RandomForestClassifier\n",
    "import numpy as np"
   ]
  },
  {
   "cell_type": "code",
   "execution_count": 77,
   "id": "basic-gardening",
   "metadata": {},
   "outputs": [
    {
     "name": "stderr",
     "output_type": "stream",
     "text": [
      "<ipython-input-77-15b40ccff10d>:2: DataConversionWarning: A column-vector y was passed when a 1d array was expected. Please change the shape of y to (n_samples,), for example using ravel().\n",
      "  randomforest.fit(X_train, y_train)\n"
     ]
    },
    {
     "data": {
      "text/plain": [
       "0.5205954061337097"
      ]
     },
     "execution_count": 77,
     "metadata": {},
     "output_type": "execute_result"
    }
   ],
   "source": [
    "randomforest = RandomForestClassifier(n_estimators=100)\n",
    "randomforest.fit(X_train, y_train)\n",
    "randomforest.score(X_val, y_val)"
   ]
  },
  {
   "cell_type": "code",
   "execution_count": 182,
   "id": "chubby-biography",
   "metadata": {},
   "outputs": [
    {
     "name": "stderr",
     "output_type": "stream",
     "text": [
      "<ipython-input-182-51a7711ca55f>:2: DataConversionWarning: A column-vector y was passed when a 1d array was expected. Please change the shape of y to (n_samples,), for example using ravel().\n",
      "  randomforest.fit(X_train_val, y_train_val)\n"
     ]
    },
    {
     "data": {
      "text/plain": [
       "RandomForestClassifier()"
      ]
     },
     "execution_count": 182,
     "metadata": {},
     "output_type": "execute_result"
    }
   ],
   "source": [
    "randomforest = RandomForestClassifier(n_estimators=100)\n",
    "randomforest.fit(X_train_val, y_train_val)"
   ]
  },
  {
   "cell_type": "code",
   "execution_count": 185,
   "id": "confidential-weight",
   "metadata": {},
   "outputs": [
    {
     "data": {
      "text/plain": [
       "0.5292904825756592"
      ]
     },
     "execution_count": 185,
     "metadata": {},
     "output_type": "execute_result"
    }
   ],
   "source": [
    "randomforest.score(X_test, y_test)"
   ]
  },
  {
   "cell_type": "code",
   "execution_count": 186,
   "id": "accessible-vanilla",
   "metadata": {},
   "outputs": [
    {
     "data": {
      "text/plain": [
       "array([[10725, 18582],\n",
       "       [14065, 25985]], dtype=int64)"
      ]
     },
     "execution_count": 186,
     "metadata": {},
     "output_type": "execute_result"
    }
   ],
   "source": [
    "\n",
    "confusion_matrix(y_test, randomforest.predict(X_test))"
   ]
  },
  {
   "cell_type": "code",
   "execution_count": 179,
   "id": "saving-population",
   "metadata": {},
   "outputs": [
    {
     "name": "stderr",
     "output_type": "stream",
     "text": [
      "<ipython-input-179-59a8d473f2be>:2: DataConversionWarning: A column-vector y was passed when a 1d array was expected. Please change the shape of y to (n_samples,), for example using ravel().\n",
      "  randomforest.fit(X_train, y_train)\n"
     ]
    },
    {
     "data": {
      "text/plain": [
       "0.4905684588733479"
      ]
     },
     "execution_count": 179,
     "metadata": {},
     "output_type": "execute_result"
    }
   ],
   "source": [
    "randomforest = RandomForestClassifier(n_estimators=10)\n",
    "randomforest.fit(X_train, y_train)\n",
    "randomforest.score(X_val, y_val)"
   ]
  },
  {
   "cell_type": "code",
   "execution_count": 112,
   "id": "experienced-motion",
   "metadata": {},
   "outputs": [
    {
     "name": "stdout",
     "output_type": "stream",
     "text": [
      "Feature: 0, Score: 0.00673\n",
      "Feature: 1, Score: 0.00662\n",
      "Feature: 2, Score: 0.00675\n",
      "Feature: 3, Score: 0.00687\n",
      "Feature: 4, Score: 0.00863\n",
      "Feature: 5, Score: 0.01530\n",
      "Feature: 6, Score: 0.01838\n",
      "Feature: 7, Score: 0.01788\n",
      "Feature: 8, Score: 0.01912\n",
      "Feature: 9, Score: 0.01605\n",
      "Feature: 10, Score: 0.01610\n",
      "Feature: 11, Score: 0.01337\n",
      "Feature: 12, Score: 0.01412\n",
      "Feature: 13, Score: 0.01495\n",
      "Feature: 14, Score: 0.01885\n",
      "Feature: 15, Score: 0.00649\n",
      "Feature: 16, Score: 0.01269\n",
      "Feature: 17, Score: 0.00657\n",
      "Feature: 18, Score: 0.00715\n",
      "Feature: 19, Score: 0.00738\n",
      "Feature: 20, Score: 0.01622\n",
      "Feature: 21, Score: 0.01391\n",
      "Feature: 22, Score: 0.00033\n",
      "Feature: 23, Score: 0.00028\n",
      "Feature: 24, Score: 0.00634\n",
      "Feature: 25, Score: 0.00662\n",
      "Feature: 26, Score: 0.00665\n",
      "Feature: 27, Score: 0.01930\n",
      "Feature: 28, Score: 0.01478\n",
      "Feature: 29, Score: 0.00060\n",
      "Feature: 30, Score: 0.00051\n",
      "Feature: 31, Score: 0.00651\n",
      "Feature: 32, Score: 0.00618\n",
      "Feature: 33, Score: 0.00617\n",
      "Feature: 34, Score: 0.01674\n",
      "Feature: 35, Score: 0.01429\n",
      "Feature: 36, Score: 0.01664\n",
      "Feature: 37, Score: 0.01250\n",
      "Feature: 38, Score: 0.01310\n",
      "Feature: 39, Score: 0.01385\n",
      "Feature: 40, Score: 0.00636\n",
      "Feature: 41, Score: 0.00667\n",
      "Feature: 42, Score: 0.00622\n",
      "Feature: 43, Score: 0.00647\n",
      "Feature: 44, Score: 0.01729\n",
      "Feature: 45, Score: 0.01629\n",
      "Feature: 46, Score: 0.01666\n",
      "Feature: 47, Score: 0.01560\n",
      "Feature: 48, Score: 0.01542\n",
      "Feature: 49, Score: 0.01450\n",
      "Feature: 50, Score: 0.01397\n",
      "Feature: 51, Score: 0.02238\n",
      "Feature: 52, Score: 0.01416\n",
      "Feature: 53, Score: 0.01620\n",
      "Feature: 54, Score: 0.01445\n",
      "Feature: 55, Score: 0.01512\n",
      "Feature: 56, Score: 0.01722\n",
      "Feature: 57, Score: 0.00624\n",
      "Feature: 58, Score: 0.00619\n",
      "Feature: 59, Score: 0.00626\n",
      "Feature: 60, Score: 0.00694\n",
      "Feature: 61, Score: 0.00817\n",
      "Feature: 62, Score: 0.00840\n",
      "Feature: 63, Score: 0.00869\n",
      "Feature: 64, Score: 0.00887\n",
      "Feature: 65, Score: 0.01147\n",
      "Feature: 66, Score: 0.00064\n",
      "Feature: 67, Score: 0.00065\n",
      "Feature: 68, Score: 0.01423\n",
      "Feature: 69, Score: 0.01062\n",
      "Feature: 70, Score: 0.01379\n",
      "Feature: 71, Score: 0.01547\n",
      "Feature: 72, Score: 0.01434\n",
      "Feature: 73, Score: 0.01678\n",
      "Feature: 74, Score: 0.01330\n",
      "Feature: 75, Score: 0.01440\n",
      "Feature: 76, Score: 0.01337\n",
      "Feature: 77, Score: 0.01336\n",
      "Feature: 78, Score: 0.00673\n",
      "Feature: 79, Score: 0.01613\n",
      "Feature: 80, Score: 0.01699\n",
      "Feature: 81, Score: 0.01827\n",
      "Feature: 82, Score: 0.01680\n",
      "Feature: 83, Score: 0.01383\n",
      "Feature: 84, Score: 0.01379\n",
      "Feature: 85, Score: 0.01884\n"
     ]
    },
    {
     "data": {
      "image/png": "[encoded data removed]",
      "text/plain": [
       "<Figure size 432x288 with 1 Axes>"
      ]
     },
     "metadata": {
      "needs_background": "light"
     },
     "output_type": "display_data"
    }
   ],
   "source": [
    "importance = randomforest.feature_importances_\n",
    "for i,v in enumerate(importance):\n",
    "    print('Feature: %0d, Score: %.5f' % (i,v))\n",
    "plt.bar([x for x in range(len(importance))], importance)\n",
    "plt.show()"
   ]
  },
  {
   "cell_type": "code",
   "execution_count": 93,
   "id": "working-exemption",
   "metadata": {},
   "outputs": [],
   "source": [
    "from sklearn.model_selection import RandomizedSearchCV\n",
    "# Number of trees in random forest\n",
    "n_estimators = [int(x) for x in np.linspace(start = 200, stop = 2000, num = 10)]\n",
    "# Number of features to consider at every split\n",
    "max_features = ['auto', 'sqrt']\n",
    "# Maximum number of levels in tree\n",
    "max_depth = [int(x) for x in np.linspace(10, 110, num = 11)]\n",
    "max_depth.append(None)\n",
    "# Minimum number of samples required to split a node\n",
    "min_samples_split = [2, 5, 10]\n",
    "# Minimum number of samples required at each leaf node\n",
    "min_samples_leaf = [1, 2, 4]\n",
    "# Method of selecting samples for training each tree\n",
    "bootstrap = [True, False]\n",
    "# Create the random grid\n",
    "random_grid = {'n_estimators': n_estimators,\n",
    "               'bootstrap': bootstrap}"
   ]
  },
  {
   "cell_type": "code",
   "execution_count": 175,
   "id": "according-karaoke",
   "metadata": {},
   "outputs": [
    {
     "name": "stderr",
     "output_type": "stream",
     "text": [
      "C:\\Users\\brian\\.conda\\envs\\metis\\lib\\site-packages\\sklearn\\model_selection\\_search.py:285: UserWarning: The total space of parameters 20 is smaller than n_iter=100. Running 20 iterations. For exhaustive searches, use GridSearchCV.\n",
      "  warnings.warn(\n"
     ]
    },
    {
     "name": "stdout",
     "output_type": "stream",
     "text": [
      "Fitting 3 folds for each of 20 candidates, totalling 60 fits\n"
     ]
    },
    {
     "ename": "KeyboardInterrupt",
     "evalue": "",
     "output_type": "error",
     "traceback": [
      "\u001b[1;31m---------------------------------------------------------------------------\u001b[0m",
      "\u001b[1;31mKeyboardInterrupt\u001b[0m                         Traceback (most recent call last)",
      "\u001b[1;32m<ipython-input-175-889488f73df5>\u001b[0m in \u001b[0;36m<module>\u001b[1;34m\u001b[0m\n\u001b[0;32m      6\u001b[0m \u001b[0mrf_random\u001b[0m \u001b[1;33m=\u001b[0m \u001b[0mRandomizedSearchCV\u001b[0m\u001b[1;33m(\u001b[0m\u001b[0mestimator\u001b[0m \u001b[1;33m=\u001b[0m \u001b[0mrf\u001b[0m\u001b[1;33m,\u001b[0m \u001b[0mparam_distributions\u001b[0m \u001b[1;33m=\u001b[0m \u001b[0mrandom_grid\u001b[0m\u001b[1;33m,\u001b[0m \u001b[0mn_iter\u001b[0m \u001b[1;33m=\u001b[0m \u001b[1;36m100\u001b[0m\u001b[1;33m,\u001b[0m \u001b[0mcv\u001b[0m \u001b[1;33m=\u001b[0m \u001b[1;36m3\u001b[0m\u001b[1;33m,\u001b[0m \u001b[0mverbose\u001b[0m\u001b[1;33m=\u001b[0m\u001b[1;36m2\u001b[0m\u001b[1;33m,\u001b[0m \u001b[0mrandom_state\u001b[0m\u001b[1;33m=\u001b[0m\u001b[1;36m42\u001b[0m\u001b[1;33m,\u001b[0m \u001b[0mn_jobs\u001b[0m \u001b[1;33m=\u001b[0m \u001b[1;33m-\u001b[0m\u001b[1;36m1\u001b[0m\u001b[1;33m)\u001b[0m\u001b[1;33m\u001b[0m\u001b[1;33m\u001b[0m\u001b[0m\n\u001b[0;32m      7\u001b[0m \u001b[1;31m# Fit the random search model\u001b[0m\u001b[1;33m\u001b[0m\u001b[1;33m\u001b[0m\u001b[1;33m\u001b[0m\u001b[0m\n\u001b[1;32m----> 8\u001b[1;33m \u001b[0mrf_random\u001b[0m\u001b[1;33m.\u001b[0m\u001b[0mfit\u001b[0m\u001b[1;33m(\u001b[0m\u001b[0mX_train\u001b[0m\u001b[1;33m,\u001b[0m \u001b[0my_train\u001b[0m\u001b[1;33m)\u001b[0m\u001b[1;33m\u001b[0m\u001b[1;33m\u001b[0m\u001b[0m\n\u001b[0m",
      "\u001b[1;32m~\\.conda\\envs\\metis\\lib\\site-packages\\sklearn\\utils\\validation.py\u001b[0m in \u001b[0;36minner_f\u001b[1;34m(*args, **kwargs)\u001b[0m\n\u001b[0;32m     61\u001b[0m             \u001b[0mextra_args\u001b[0m \u001b[1;33m=\u001b[0m \u001b[0mlen\u001b[0m\u001b[1;33m(\u001b[0m\u001b[0margs\u001b[0m\u001b[1;33m)\u001b[0m \u001b[1;33m-\u001b[0m \u001b[0mlen\u001b[0m\u001b[1;33m(\u001b[0m\u001b[0mall_args\u001b[0m\u001b[1;33m)\u001b[0m\u001b[1;33m\u001b[0m\u001b[1;33m\u001b[0m\u001b[0m\n\u001b[0;32m     62\u001b[0m             \u001b[1;32mif\u001b[0m \u001b[0mextra_args\u001b[0m \u001b[1;33m<=\u001b[0m \u001b[1;36m0\u001b[0m\u001b[1;33m:\u001b[0m\u001b[1;33m\u001b[0m\u001b[1;33m\u001b[0m\u001b[0m\n\u001b[1;32m---> 63\u001b[1;33m                 \u001b[1;32mreturn\u001b[0m \u001b[0mf\u001b[0m\u001b[1;33m(\u001b[0m\u001b[1;33m*\u001b[0m\u001b[0margs\u001b[0m\u001b[1;33m,\u001b[0m \u001b[1;33m**\u001b[0m\u001b[0mkwargs\u001b[0m\u001b[1;33m)\u001b[0m\u001b[1;33m\u001b[0m\u001b[1;33m\u001b[0m\u001b[0m\n\u001b[0m\u001b[0;32m     64\u001b[0m \u001b[1;33m\u001b[0m\u001b[0m\n\u001b[0;32m     65\u001b[0m             \u001b[1;31m# extra_args > 0\u001b[0m\u001b[1;33m\u001b[0m\u001b[1;33m\u001b[0m\u001b[1;33m\u001b[0m\u001b[0m\n",
      "\u001b[1;32m~\\.conda\\envs\\metis\\lib\\site-packages\\sklearn\\model_selection\\_search.py\u001b[0m in \u001b[0;36mfit\u001b[1;34m(self, X, y, groups, **fit_params)\u001b[0m\n\u001b[0;32m    839\u001b[0m                 \u001b[1;32mreturn\u001b[0m \u001b[0mresults\u001b[0m\u001b[1;33m\u001b[0m\u001b[1;33m\u001b[0m\u001b[0m\n\u001b[0;32m    840\u001b[0m \u001b[1;33m\u001b[0m\u001b[0m\n\u001b[1;32m--> 841\u001b[1;33m             \u001b[0mself\u001b[0m\u001b[1;33m.\u001b[0m\u001b[0m_run_search\u001b[0m\u001b[1;33m(\u001b[0m\u001b[0mevaluate_candidates\u001b[0m\u001b[1;33m)\u001b[0m\u001b[1;33m\u001b[0m\u001b[1;33m\u001b[0m\u001b[0m\n\u001b[0m\u001b[0;32m    842\u001b[0m \u001b[1;33m\u001b[0m\u001b[0m\n\u001b[0;32m    843\u001b[0m             \u001b[1;31m# multimetric is determined here because in the case of a callable\u001b[0m\u001b[1;33m\u001b[0m\u001b[1;33m\u001b[0m\u001b[1;33m\u001b[0m\u001b[0m\n",
      "\u001b[1;32m~\\.conda\\envs\\metis\\lib\\site-packages\\sklearn\\model_selection\\_search.py\u001b[0m in \u001b[0;36m_run_search\u001b[1;34m(self, evaluate_candidates)\u001b[0m\n\u001b[0;32m   1617\u001b[0m     \u001b[1;32mdef\u001b[0m \u001b[0m_run_search\u001b[0m\u001b[1;33m(\u001b[0m\u001b[0mself\u001b[0m\u001b[1;33m,\u001b[0m \u001b[0mevaluate_candidates\u001b[0m\u001b[1;33m)\u001b[0m\u001b[1;33m:\u001b[0m\u001b[1;33m\u001b[0m\u001b[1;33m\u001b[0m\u001b[0m\n\u001b[0;32m   1618\u001b[0m         \u001b[1;34m\"\"\"Search n_iter candidates from param_distributions\"\"\"\u001b[0m\u001b[1;33m\u001b[0m\u001b[1;33m\u001b[0m\u001b[0m\n\u001b[1;32m-> 1619\u001b[1;33m         evaluate_candidates(ParameterSampler(\n\u001b[0m\u001b[0;32m   1620\u001b[0m             \u001b[0mself\u001b[0m\u001b[1;33m.\u001b[0m\u001b[0mparam_distributions\u001b[0m\u001b[1;33m,\u001b[0m \u001b[0mself\u001b[0m\u001b[1;33m.\u001b[0m\u001b[0mn_iter\u001b[0m\u001b[1;33m,\u001b[0m\u001b[1;33m\u001b[0m\u001b[1;33m\u001b[0m\u001b[0m\n\u001b[0;32m   1621\u001b[0m             random_state=self.random_state))\n",
      "\u001b[1;32m~\\.conda\\envs\\metis\\lib\\site-packages\\sklearn\\model_selection\\_search.py\u001b[0m in \u001b[0;36mevaluate_candidates\u001b[1;34m(candidate_params, cv, more_results)\u001b[0m\n\u001b[0;32m    793\u001b[0m                               n_splits, n_candidates, n_candidates * n_splits))\n\u001b[0;32m    794\u001b[0m \u001b[1;33m\u001b[0m\u001b[0m\n\u001b[1;32m--> 795\u001b[1;33m                 out = parallel(delayed(_fit_and_score)(clone(base_estimator),\n\u001b[0m\u001b[0;32m    796\u001b[0m                                                        \u001b[0mX\u001b[0m\u001b[1;33m,\u001b[0m \u001b[0my\u001b[0m\u001b[1;33m,\u001b[0m\u001b[1;33m\u001b[0m\u001b[1;33m\u001b[0m\u001b[0m\n\u001b[0;32m    797\u001b[0m                                                        \u001b[0mtrain\u001b[0m\u001b[1;33m=\u001b[0m\u001b[0mtrain\u001b[0m\u001b[1;33m,\u001b[0m \u001b[0mtest\u001b[0m\u001b[1;33m=\u001b[0m\u001b[0mtest\u001b[0m\u001b[1;33m,\u001b[0m\u001b[1;33m\u001b[0m\u001b[1;33m\u001b[0m\u001b[0m\n",
      "\u001b[1;32m~\\.conda\\envs\\metis\\lib\\site-packages\\joblib\\parallel.py\u001b[0m in \u001b[0;36m__call__\u001b[1;34m(self, iterable)\u001b[0m\n\u001b[0;32m   1052\u001b[0m \u001b[1;33m\u001b[0m\u001b[0m\n\u001b[0;32m   1053\u001b[0m             \u001b[1;32mwith\u001b[0m \u001b[0mself\u001b[0m\u001b[1;33m.\u001b[0m\u001b[0m_backend\u001b[0m\u001b[1;33m.\u001b[0m\u001b[0mretrieval_context\u001b[0m\u001b[1;33m(\u001b[0m\u001b[1;33m)\u001b[0m\u001b[1;33m:\u001b[0m\u001b[1;33m\u001b[0m\u001b[1;33m\u001b[0m\u001b[0m\n\u001b[1;32m-> 1054\u001b[1;33m                 \u001b[0mself\u001b[0m\u001b[1;33m.\u001b[0m\u001b[0mretrieve\u001b[0m\u001b[1;33m(\u001b[0m\u001b[1;33m)\u001b[0m\u001b[1;33m\u001b[0m\u001b[1;33m\u001b[0m\u001b[0m\n\u001b[0m\u001b[0;32m   1055\u001b[0m             \u001b[1;31m# Make sure that we get a last message telling us we are done\u001b[0m\u001b[1;33m\u001b[0m\u001b[1;33m\u001b[0m\u001b[1;33m\u001b[0m\u001b[0m\n\u001b[0;32m   1056\u001b[0m             \u001b[0melapsed_time\u001b[0m \u001b[1;33m=\u001b[0m \u001b[0mtime\u001b[0m\u001b[1;33m.\u001b[0m\u001b[0mtime\u001b[0m\u001b[1;33m(\u001b[0m\u001b[1;33m)\u001b[0m \u001b[1;33m-\u001b[0m \u001b[0mself\u001b[0m\u001b[1;33m.\u001b[0m\u001b[0m_start_time\u001b[0m\u001b[1;33m\u001b[0m\u001b[1;33m\u001b[0m\u001b[0m\n",
      "\u001b[1;32m~\\.conda\\envs\\metis\\lib\\site-packages\\joblib\\parallel.py\u001b[0m in \u001b[0;36mretrieve\u001b[1;34m(self)\u001b[0m\n\u001b[0;32m    931\u001b[0m             \u001b[1;32mtry\u001b[0m\u001b[1;33m:\u001b[0m\u001b[1;33m\u001b[0m\u001b[1;33m\u001b[0m\u001b[0m\n\u001b[0;32m    932\u001b[0m                 \u001b[1;32mif\u001b[0m \u001b[0mgetattr\u001b[0m\u001b[1;33m(\u001b[0m\u001b[0mself\u001b[0m\u001b[1;33m.\u001b[0m\u001b[0m_backend\u001b[0m\u001b[1;33m,\u001b[0m \u001b[1;34m'supports_timeout'\u001b[0m\u001b[1;33m,\u001b[0m \u001b[1;32mFalse\u001b[0m\u001b[1;33m)\u001b[0m\u001b[1;33m:\u001b[0m\u001b[1;33m\u001b[0m\u001b[1;33m\u001b[0m\u001b[0m\n\u001b[1;32m--> 933\u001b[1;33m                     \u001b[0mself\u001b[0m\u001b[1;33m.\u001b[0m\u001b[0m_output\u001b[0m\u001b[1;33m.\u001b[0m\u001b[0mextend\u001b[0m\u001b[1;33m(\u001b[0m\u001b[0mjob\u001b[0m\u001b[1;33m.\u001b[0m\u001b[0mget\u001b[0m\u001b[1;33m(\u001b[0m\u001b[0mtimeout\u001b[0m\u001b[1;33m=\u001b[0m\u001b[0mself\u001b[0m\u001b[1;33m.\u001b[0m\u001b[0mtimeout\u001b[0m\u001b[1;33m)\u001b[0m\u001b[1;33m)\u001b[0m\u001b[1;33m\u001b[0m\u001b[1;33m\u001b[0m\u001b[0m\n\u001b[0m\u001b[0;32m    934\u001b[0m                 \u001b[1;32melse\u001b[0m\u001b[1;33m:\u001b[0m\u001b[1;33m\u001b[0m\u001b[1;33m\u001b[0m\u001b[0m\n\u001b[0;32m    935\u001b[0m                     \u001b[0mself\u001b[0m\u001b[1;33m.\u001b[0m\u001b[0m_output\u001b[0m\u001b[1;33m.\u001b[0m\u001b[0mextend\u001b[0m\u001b[1;33m(\u001b[0m\u001b[0mjob\u001b[0m\u001b[1;33m.\u001b[0m\u001b[0mget\u001b[0m\u001b[1;33m(\u001b[0m\u001b[1;33m)\u001b[0m\u001b[1;33m)\u001b[0m\u001b[1;33m\u001b[0m\u001b[1;33m\u001b[0m\u001b[0m\n",
      "\u001b[1;32m~\\.conda\\envs\\metis\\lib\\site-packages\\joblib\\_parallel_backends.py\u001b[0m in \u001b[0;36mwrap_future_result\u001b[1;34m(future, timeout)\u001b[0m\n\u001b[0;32m    540\u001b[0m         AsyncResults.get from multiprocessing.\"\"\"\n\u001b[0;32m    541\u001b[0m         \u001b[1;32mtry\u001b[0m\u001b[1;33m:\u001b[0m\u001b[1;33m\u001b[0m\u001b[1;33m\u001b[0m\u001b[0m\n\u001b[1;32m--> 542\u001b[1;33m             \u001b[1;32mreturn\u001b[0m \u001b[0mfuture\u001b[0m\u001b[1;33m.\u001b[0m\u001b[0mresult\u001b[0m\u001b[1;33m(\u001b[0m\u001b[0mtimeout\u001b[0m\u001b[1;33m=\u001b[0m\u001b[0mtimeout\u001b[0m\u001b[1;33m)\u001b[0m\u001b[1;33m\u001b[0m\u001b[1;33m\u001b[0m\u001b[0m\n\u001b[0m\u001b[0;32m    543\u001b[0m         \u001b[1;32mexcept\u001b[0m \u001b[0mCfTimeoutError\u001b[0m \u001b[1;32mas\u001b[0m \u001b[0me\u001b[0m\u001b[1;33m:\u001b[0m\u001b[1;33m\u001b[0m\u001b[1;33m\u001b[0m\u001b[0m\n\u001b[0;32m    544\u001b[0m             \u001b[1;32mraise\u001b[0m \u001b[0mTimeoutError\u001b[0m \u001b[1;32mfrom\u001b[0m \u001b[0me\u001b[0m\u001b[1;33m\u001b[0m\u001b[1;33m\u001b[0m\u001b[0m\n",
      "\u001b[1;32m~\\.conda\\envs\\metis\\lib\\concurrent\\futures\\_base.py\u001b[0m in \u001b[0;36mresult\u001b[1;34m(self, timeout)\u001b[0m\n\u001b[0;32m    432\u001b[0m                 \u001b[1;32mreturn\u001b[0m \u001b[0mself\u001b[0m\u001b[1;33m.\u001b[0m\u001b[0m__get_result\u001b[0m\u001b[1;33m(\u001b[0m\u001b[1;33m)\u001b[0m\u001b[1;33m\u001b[0m\u001b[1;33m\u001b[0m\u001b[0m\n\u001b[0;32m    433\u001b[0m \u001b[1;33m\u001b[0m\u001b[0m\n\u001b[1;32m--> 434\u001b[1;33m             \u001b[0mself\u001b[0m\u001b[1;33m.\u001b[0m\u001b[0m_condition\u001b[0m\u001b[1;33m.\u001b[0m\u001b[0mwait\u001b[0m\u001b[1;33m(\u001b[0m\u001b[0mtimeout\u001b[0m\u001b[1;33m)\u001b[0m\u001b[1;33m\u001b[0m\u001b[1;33m\u001b[0m\u001b[0m\n\u001b[0m\u001b[0;32m    435\u001b[0m \u001b[1;33m\u001b[0m\u001b[0m\n\u001b[0;32m    436\u001b[0m             \u001b[1;32mif\u001b[0m \u001b[0mself\u001b[0m\u001b[1;33m.\u001b[0m\u001b[0m_state\u001b[0m \u001b[1;32min\u001b[0m \u001b[1;33m[\u001b[0m\u001b[0mCANCELLED\u001b[0m\u001b[1;33m,\u001b[0m \u001b[0mCANCELLED_AND_NOTIFIED\u001b[0m\u001b[1;33m]\u001b[0m\u001b[1;33m:\u001b[0m\u001b[1;33m\u001b[0m\u001b[1;33m\u001b[0m\u001b[0m\n",
      "\u001b[1;32m~\\.conda\\envs\\metis\\lib\\threading.py\u001b[0m in \u001b[0;36mwait\u001b[1;34m(self, timeout)\u001b[0m\n\u001b[0;32m    300\u001b[0m         \u001b[1;32mtry\u001b[0m\u001b[1;33m:\u001b[0m    \u001b[1;31m# restore state no matter what (e.g., KeyboardInterrupt)\u001b[0m\u001b[1;33m\u001b[0m\u001b[1;33m\u001b[0m\u001b[0m\n\u001b[0;32m    301\u001b[0m             \u001b[1;32mif\u001b[0m \u001b[0mtimeout\u001b[0m \u001b[1;32mis\u001b[0m \u001b[1;32mNone\u001b[0m\u001b[1;33m:\u001b[0m\u001b[1;33m\u001b[0m\u001b[1;33m\u001b[0m\u001b[0m\n\u001b[1;32m--> 302\u001b[1;33m                 \u001b[0mwaiter\u001b[0m\u001b[1;33m.\u001b[0m\u001b[0macquire\u001b[0m\u001b[1;33m(\u001b[0m\u001b[1;33m)\u001b[0m\u001b[1;33m\u001b[0m\u001b[1;33m\u001b[0m\u001b[0m\n\u001b[0m\u001b[0;32m    303\u001b[0m                 \u001b[0mgotit\u001b[0m \u001b[1;33m=\u001b[0m \u001b[1;32mTrue\u001b[0m\u001b[1;33m\u001b[0m\u001b[1;33m\u001b[0m\u001b[0m\n\u001b[0;32m    304\u001b[0m             \u001b[1;32melse\u001b[0m\u001b[1;33m:\u001b[0m\u001b[1;33m\u001b[0m\u001b[1;33m\u001b[0m\u001b[0m\n",
      "\u001b[1;31mKeyboardInterrupt\u001b[0m: "
     ]
    }
   ],
   "source": [
    "# Use the random grid to search for best hyperparameters\n",
    "# First create the base model to tune\n",
    "rf = RandomForestClassifier()\n",
    "# Random search of parameters, using 3 fold cross validation, \n",
    "# search across 100 different combinations, and use all available cores\n",
    "rf_random = RandomizedSearchCV(estimator = rf, param_distributions = random_grid, n_iter = 100, cv = 3, verbose=2, random_state=42, n_jobs = -1)\n",
    "# Fit the random search model\n",
    "rf_random.fit(X_train, y_train)"
   ]
  },
  {
   "cell_type": "markdown",
   "id": "framed-shell",
   "metadata": {},
   "source": [
    "## Tune Xgboost hyperparameter"
   ]
  },
  {
   "cell_type": "code",
   "execution_count": 12,
   "id": "chicken-preparation",
   "metadata": {},
   "outputs": [],
   "source": [
    "import xgboost as xgb\n",
    "from sklearn.metrics import accuracy_score,recall_score,precision_score,f1_score\n",
    "from sklearn.metrics import confusion_matrix"
   ]
  },
  {
   "cell_type": "code",
   "execution_count": 61,
   "id": "moving-novelty",
   "metadata": {},
   "outputs": [
    {
     "name": "stderr",
     "output_type": "stream",
     "text": [
      "C:\\Users\\brian\\.conda\\envs\\metis\\lib\\site-packages\\xgboost\\sklearn.py:888: UserWarning: The use of label encoder in XGBClassifier is deprecated and will be removed in a future release. To remove this warning, do the following: 1) Pass option use_label_encoder=False when constructing XGBClassifier object; and 2) Encode your labels (y) as integers starting with 0, i.e. 0, 1, 2, ..., [num_class - 1].\n",
      "  warnings.warn(label_encoder_deprecation_msg, UserWarning)\n",
      "C:\\Users\\brian\\.conda\\envs\\metis\\lib\\site-packages\\sklearn\\utils\\validation.py:63: DataConversionWarning: A column-vector y was passed when a 1d array was expected. Please change the shape of y to (n_samples, ), for example using ravel().\n",
      "  return f(*args, **kwargs)\n"
     ]
    },
    {
     "data": {
      "text/plain": [
       "0.5325201493720894"
      ]
     },
     "execution_count": 61,
     "metadata": {},
     "output_type": "execute_result"
    }
   ],
   "source": [
    "# Increased max_depth to 6 from 4, fix underfit\n",
    "gbm = xgb.XGBClassifier( \n",
    "                        n_estimators=30000,\n",
    "                        max_depth=6,\n",
    "                        objective='binary:logistic', #new objective\n",
    "                        learning_rate=.05, \n",
    "                        subsample=.8,\n",
    "                        min_child_weight=3,\n",
    "                        colsample_bytree=.8\n",
    "                       )\n",
    "\n",
    "eval_set=[(X_train,y_train),(X_val,y_val)]\n",
    "fit_model = gbm.fit( \n",
    "                    X_train, y_train, \n",
    "                    eval_set=eval_set,\n",
    "                    eval_metric='error', #new evaluation metric: classification error (could also use AUC, e.g.)\n",
    "                    early_stopping_rounds=50,\n",
    "                    verbose=False\n",
    "                   )\n",
    "\n",
    "accuracy_score(y_test, gbm.predict(X_test, ntree_limit=gbm.best_ntree_limit)) "
   ]
  },
  {
   "cell_type": "code",
   "execution_count": 62,
   "id": "nervous-landing",
   "metadata": {},
   "outputs": [
    {
     "data": {
      "text/plain": [
       "array([[ 5870, 23437],\n",
       "       [ 8986, 31064]], dtype=int64)"
      ]
     },
     "execution_count": 62,
     "metadata": {},
     "output_type": "execute_result"
    }
   ],
   "source": [
    "confusion_matrix(y_test, gbm.predict(X_test, ntree_limit=gbm.best_ntree_limit))"
   ]
  },
  {
   "cell_type": "code",
   "execution_count": 65,
   "id": "baking-license",
   "metadata": {},
   "outputs": [
    {
     "name": "stderr",
     "output_type": "stream",
     "text": [
      "C:\\Users\\brian\\.conda\\envs\\metis\\lib\\site-packages\\xgboost\\sklearn.py:888: UserWarning: The use of label encoder in XGBClassifier is deprecated and will be removed in a future release. To remove this warning, do the following: 1) Pass option use_label_encoder=False when constructing XGBClassifier object; and 2) Encode your labels (y) as integers starting with 0, i.e. 0, 1, 2, ..., [num_class - 1].\n",
      "  warnings.warn(label_encoder_deprecation_msg, UserWarning)\n",
      "C:\\Users\\brian\\.conda\\envs\\metis\\lib\\site-packages\\sklearn\\utils\\validation.py:63: DataConversionWarning: A column-vector y was passed when a 1d array was expected. Please change the shape of y to (n_samples, ), for example using ravel().\n",
      "  return f(*args, **kwargs)\n"
     ]
    },
    {
     "data": {
      "text/plain": [
       "0.553037184422625"
      ]
     },
     "execution_count": 65,
     "metadata": {},
     "output_type": "execute_result"
    }
   ],
   "source": [
    "# Increased max_depth to 6 from 4, fix underfit\n",
    "# Decreased max_depth to 4 from 6, fix underfit\n",
    "# scratch this one, more underfit\n",
    "gbm = xgb.XGBClassifier( \n",
    "                        n_estimators=30000,\n",
    "                        max_depth=4,\n",
    "                        objective='binary:logistic', #new objective\n",
    "                        learning_rate=.05, \n",
    "                        subsample=.8,\n",
    "                        min_child_weight=3,\n",
    "                        colsample_bytree=.8\n",
    "                       )\n",
    "\n",
    "eval_set=[(X_train,y_train),(X_val,y_val)]\n",
    "fit_model = gbm.fit( \n",
    "                    X_train, y_train, \n",
    "                    eval_set=eval_set,\n",
    "                    eval_metric='error', #new evaluation metric: classification error (could also use AUC, e.g.)\n",
    "                    early_stopping_rounds=50,\n",
    "                    verbose=False\n",
    "                   )\n",
    "\n",
    "accuracy_score(y_test, gbm.predict(X_test, ntree_limit=gbm.best_ntree_limit)) "
   ]
  },
  {
   "cell_type": "code",
   "execution_count": 66,
   "id": "active-shopping",
   "metadata": {},
   "outputs": [
    {
     "data": {
      "text/plain": [
       "0.5525340454446103"
      ]
     },
     "execution_count": 66,
     "metadata": {},
     "output_type": "execute_result"
    }
   ],
   "source": [
    "gbm.score(X_train, y_train)"
   ]
  },
  {
   "cell_type": "code",
   "execution_count": 67,
   "id": "constant-allowance",
   "metadata": {},
   "outputs": [
    {
     "data": {
      "text/plain": [
       "array([[ 2983, 26324],\n",
       "       [ 4676, 35374]], dtype=int64)"
      ]
     },
     "execution_count": 67,
     "metadata": {},
     "output_type": "execute_result"
    }
   ],
   "source": [
    "confusion_matrix(y_test, gbm.predict(X_test, ntree_limit=gbm.best_ntree_limit))"
   ]
  },
  {
   "cell_type": "code",
   "execution_count": 149,
   "id": "stunning-durham",
   "metadata": {},
   "outputs": [],
   "source": [
    "def make_confusion_matrix(model, threshold=0.5):\n",
    "    # Predict class 1 if probability of being in class 1 is greater than threshold\n",
    "    # (model.predict(X_test) does this automatically with a threshold of 0.5)\n",
    "    y_predict = (model.predict_proba(X_test)[:, 1] >= threshold)\n",
    "    fraud_confusion = confusion_matrix(y_test, y_predict)\n",
    "    plt.figure(dpi=80)\n",
    "    sns.heatmap(fraud_confusion, cmap=plt.cm.Blues, annot=True, square=True, fmt='d',\n",
    "           xticklabels=['Down', 'Up'],\n",
    "           yticklabels=['Down', 'Up']);\n",
    "    plt.xlabel('prediction')\n",
    "    plt.ylabel('actual')"
   ]
  },
  {
   "cell_type": "code",
   "execution_count": 150,
   "id": "interpreted-yesterday",
   "metadata": {},
   "outputs": [
    {
     "data": {
      "image/png": "[encoded data removed]",
      "text/plain": [
       "<Figure size 480x320 with 2 Axes>"
      ]
     },
     "metadata": {
      "needs_background": "light"
     },
     "output_type": "display_data"
    }
   ],
   "source": [
    "make_confusion_matrix(gbm, threshold=0.5)"
   ]
  },
  {
   "cell_type": "code",
   "execution_count": 116,
   "id": "activated-reference",
   "metadata": {},
   "outputs": [
    {
     "name": "stdout",
     "output_type": "stream",
     "text": [
      "Feature: 0, Score: 0.00000\n",
      "Feature: 1, Score: 0.00337\n",
      "Feature: 2, Score: 0.00547\n",
      "Feature: 3, Score: 0.00000\n",
      "Feature: 4, Score: 0.01253\n",
      "Feature: 5, Score: 0.01433\n",
      "Feature: 6, Score: 0.01526\n",
      "Feature: 7, Score: 0.00982\n",
      "Feature: 8, Score: 0.02140\n",
      "Feature: 9, Score: 0.01783\n",
      "Feature: 10, Score: 0.00646\n",
      "Feature: 11, Score: 0.02287\n",
      "Feature: 12, Score: 0.00975\n",
      "Feature: 13, Score: 0.01178\n",
      "Feature: 14, Score: 0.01506\n",
      "Feature: 15, Score: 0.01557\n",
      "Feature: 16, Score: 0.01125\n",
      "Feature: 17, Score: 0.00656\n",
      "Feature: 18, Score: 0.00722\n",
      "Feature: 19, Score: 0.00586\n",
      "Feature: 20, Score: 0.01662\n",
      "Feature: 21, Score: 0.01561\n",
      "Feature: 22, Score: 0.00000\n",
      "Feature: 23, Score: 0.00000\n",
      "Feature: 24, Score: 0.00000\n",
      "Feature: 25, Score: 0.01213\n",
      "Feature: 26, Score: 0.00000\n",
      "Feature: 27, Score: 0.04172\n",
      "Feature: 28, Score: 0.01223\n",
      "Feature: 29, Score: 0.00000\n",
      "Feature: 30, Score: 0.00000\n",
      "Feature: 31, Score: 0.00980\n",
      "Feature: 32, Score: 0.00248\n",
      "Feature: 33, Score: 0.00000\n",
      "Feature: 34, Score: 0.00863\n",
      "Feature: 35, Score: 0.02107\n",
      "Feature: 36, Score: 0.03011\n",
      "Feature: 37, Score: 0.01004\n",
      "Feature: 38, Score: 0.00457\n",
      "Feature: 39, Score: 0.01119\n",
      "Feature: 40, Score: 0.00000\n",
      "Feature: 41, Score: 0.00000\n",
      "Feature: 42, Score: 0.00000\n",
      "Feature: 43, Score: 0.00000\n",
      "Feature: 44, Score: 0.00738\n",
      "Feature: 45, Score: 0.01026\n",
      "Feature: 46, Score: 0.01168\n",
      "Feature: 47, Score: 0.02870\n",
      "Feature: 48, Score: 0.01624\n",
      "Feature: 49, Score: 0.00876\n",
      "Feature: 50, Score: 0.00754\n",
      "Feature: 51, Score: 0.03614\n",
      "Feature: 52, Score: 0.00929\n",
      "Feature: 53, Score: 0.01435\n",
      "Feature: 54, Score: 0.02194\n",
      "Feature: 55, Score: 0.01733\n",
      "Feature: 56, Score: 0.02556\n",
      "Feature: 57, Score: 0.00309\n",
      "Feature: 58, Score: 0.00000\n",
      "Feature: 59, Score: 0.00000\n",
      "Feature: 60, Score: 0.00794\n",
      "Feature: 61, Score: 0.00870\n",
      "Feature: 62, Score: 0.01393\n",
      "Feature: 63, Score: 0.03174\n",
      "Feature: 64, Score: 0.02158\n",
      "Feature: 65, Score: 0.01870\n",
      "Feature: 66, Score: 0.00000\n",
      "Feature: 67, Score: 0.00000\n",
      "Feature: 68, Score: 0.01693\n",
      "Feature: 69, Score: 0.02246\n",
      "Feature: 70, Score: 0.01038\n",
      "Feature: 71, Score: 0.01520\n",
      "Feature: 72, Score: 0.00862\n",
      "Feature: 73, Score: 0.02011\n",
      "Feature: 74, Score: 0.01124\n",
      "Feature: 75, Score: 0.01536\n",
      "Feature: 76, Score: 0.01572\n",
      "Feature: 77, Score: 0.01602\n",
      "Feature: 78, Score: 0.00000\n",
      "Feature: 79, Score: 0.03819\n",
      "Feature: 80, Score: 0.00603\n",
      "Feature: 81, Score: 0.02829\n",
      "Feature: 82, Score: 0.00704\n",
      "Feature: 83, Score: 0.01070\n",
      "Feature: 84, Score: 0.01908\n",
      "Feature: 85, Score: 0.00917\n"
     ]
    },
    {
     "data": {
      "image/png": "[encoded data removed]",
      "text/plain": [
       "<Figure size 432x288 with 1 Axes>"
      ]
     },
     "metadata": {
      "needs_background": "light"
     },
     "output_type": "display_data"
    }
   ],
   "source": [
    "importance = gbm.feature_importances_\n",
    "for i,v in enumerate(importance):\n",
    "    print('Feature: %0d, Score: %.5f' % (i,v))\n",
    "plt.bar([x for x in range(len(importance))], importance)\n",
    "plt.show()"
   ]
  },
  {
   "cell_type": "code",
   "execution_count": 117,
   "id": "consecutive-screening",
   "metadata": {},
   "outputs": [
    {
     "data": {
      "text/plain": [
       "array([1, 1, 1, ..., 1, 1, 1], dtype=int64)"
      ]
     },
     "execution_count": 117,
     "metadata": {},
     "output_type": "execute_result"
    }
   ],
   "source": [
    "gbm.predict(X_test, ntree_limit=gbm.best_ntree_limit)"
   ]
  },
  {
   "cell_type": "code",
   "execution_count": 118,
   "id": "legendary-painting",
   "metadata": {},
   "outputs": [
    {
     "data": {
      "text/html": [
       "<div>\n",
       "<style scoped>\n",
       "    .dataframe tbody tr th:only-of-type {\n",
       "        vertical-align: middle;\n",
       "    }\n",
       "\n",
       "    .dataframe tbody tr th {\n",
       "        vertical-align: top;\n",
       "    }\n",
       "\n",
       "    .dataframe thead th {\n",
       "        text-align: right;\n",
       "    }\n",
       "</style>\n",
       "<table border=\"1\" class=\"dataframe\">\n",
       "  <thead>\n",
       "    <tr style=\"text-align: right;\">\n",
       "      <th></th>\n",
       "      <th>trend</th>\n",
       "    </tr>\n",
       "  </thead>\n",
       "  <tbody>\n",
       "    <tr>\n",
       "      <th>561</th>\n",
       "      <td>1</td>\n",
       "    </tr>\n",
       "    <tr>\n",
       "      <th>562</th>\n",
       "      <td>1</td>\n",
       "    </tr>\n",
       "    <tr>\n",
       "      <th>563</th>\n",
       "      <td>1</td>\n",
       "    </tr>\n",
       "    <tr>\n",
       "      <th>564</th>\n",
       "      <td>1</td>\n",
       "    </tr>\n",
       "    <tr>\n",
       "      <th>565</th>\n",
       "      <td>0</td>\n",
       "    </tr>\n",
       "    <tr>\n",
       "      <th>...</th>\n",
       "      <td>...</td>\n",
       "    </tr>\n",
       "    <tr>\n",
       "      <th>349943</th>\n",
       "      <td>1</td>\n",
       "    </tr>\n",
       "    <tr>\n",
       "      <th>349944</th>\n",
       "      <td>0</td>\n",
       "    </tr>\n",
       "    <tr>\n",
       "      <th>349945</th>\n",
       "      <td>1</td>\n",
       "    </tr>\n",
       "    <tr>\n",
       "      <th>349946</th>\n",
       "      <td>1</td>\n",
       "    </tr>\n",
       "    <tr>\n",
       "      <th>349947</th>\n",
       "      <td>1</td>\n",
       "    </tr>\n",
       "  </tbody>\n",
       "</table>\n",
       "<p>69357 rows × 1 columns</p>\n",
       "</div>"
      ],
      "text/plain": [
       "        trend\n",
       "561         1\n",
       "562         1\n",
       "563         1\n",
       "564         1\n",
       "565         0\n",
       "...       ...\n",
       "349943      1\n",
       "349944      0\n",
       "349945      1\n",
       "349946      1\n",
       "349947      1\n",
       "\n",
       "[69357 rows x 1 columns]"
      ]
     },
     "execution_count": 118,
     "metadata": {},
     "output_type": "execute_result"
    }
   ],
   "source": [
    "y_test"
   ]
  },
  {
   "cell_type": "code",
   "execution_count": 119,
   "id": "grateful-tunisia",
   "metadata": {},
   "outputs": [],
   "source": [
    "real_predict = y_test.copy()\n",
    "real_predict['predict'] = gbm.predict(X_test, ntree_limit=gbm.best_ntree_limit)"
   ]
  },
  {
   "cell_type": "code",
   "execution_count": 120,
   "id": "increased-police",
   "metadata": {},
   "outputs": [
    {
     "data": {
      "text/html": [
       "<div>\n",
       "<style scoped>\n",
       "    .dataframe tbody tr th:only-of-type {\n",
       "        vertical-align: middle;\n",
       "    }\n",
       "\n",
       "    .dataframe tbody tr th {\n",
       "        vertical-align: top;\n",
       "    }\n",
       "\n",
       "    .dataframe thead th {\n",
       "        text-align: right;\n",
       "    }\n",
       "</style>\n",
       "<table border=\"1\" class=\"dataframe\">\n",
       "  <thead>\n",
       "    <tr style=\"text-align: right;\">\n",
       "      <th></th>\n",
       "      <th>trend</th>\n",
       "      <th>predict</th>\n",
       "    </tr>\n",
       "  </thead>\n",
       "  <tbody>\n",
       "    <tr>\n",
       "      <th>561</th>\n",
       "      <td>1</td>\n",
       "      <td>1</td>\n",
       "    </tr>\n",
       "    <tr>\n",
       "      <th>562</th>\n",
       "      <td>1</td>\n",
       "      <td>1</td>\n",
       "    </tr>\n",
       "    <tr>\n",
       "      <th>563</th>\n",
       "      <td>1</td>\n",
       "      <td>1</td>\n",
       "    </tr>\n",
       "    <tr>\n",
       "      <th>564</th>\n",
       "      <td>1</td>\n",
       "      <td>1</td>\n",
       "    </tr>\n",
       "    <tr>\n",
       "      <th>565</th>\n",
       "      <td>0</td>\n",
       "      <td>1</td>\n",
       "    </tr>\n",
       "    <tr>\n",
       "      <th>...</th>\n",
       "      <td>...</td>\n",
       "      <td>...</td>\n",
       "    </tr>\n",
       "    <tr>\n",
       "      <th>349943</th>\n",
       "      <td>1</td>\n",
       "      <td>1</td>\n",
       "    </tr>\n",
       "    <tr>\n",
       "      <th>349944</th>\n",
       "      <td>0</td>\n",
       "      <td>1</td>\n",
       "    </tr>\n",
       "    <tr>\n",
       "      <th>349945</th>\n",
       "      <td>1</td>\n",
       "      <td>1</td>\n",
       "    </tr>\n",
       "    <tr>\n",
       "      <th>349946</th>\n",
       "      <td>1</td>\n",
       "      <td>1</td>\n",
       "    </tr>\n",
       "    <tr>\n",
       "      <th>349947</th>\n",
       "      <td>1</td>\n",
       "      <td>1</td>\n",
       "    </tr>\n",
       "  </tbody>\n",
       "</table>\n",
       "<p>69357 rows × 2 columns</p>\n",
       "</div>"
      ],
      "text/plain": [
       "        trend  predict\n",
       "561         1        1\n",
       "562         1        1\n",
       "563         1        1\n",
       "564         1        1\n",
       "565         0        1\n",
       "...       ...      ...\n",
       "349943      1        1\n",
       "349944      0        1\n",
       "349945      1        1\n",
       "349946      1        1\n",
       "349947      1        1\n",
       "\n",
       "[69357 rows x 2 columns]"
      ]
     },
     "execution_count": 120,
     "metadata": {},
     "output_type": "execute_result"
    }
   ],
   "source": [
    "real_predict"
   ]
  },
  {
   "cell_type": "code",
   "execution_count": 123,
   "id": "metric-tumor",
   "metadata": {},
   "outputs": [],
   "source": [
    "correct_list = list(real_predict[real_predict['trend'] == real_predict['predict']].index)\n",
    "wrong_list = list(real_predict[real_predict['trend'] != real_predict['predict']].index)"
   ]
  },
  {
   "cell_type": "code",
   "execution_count": 124,
   "id": "referenced-damages",
   "metadata": {},
   "outputs": [
    {
     "data": {
      "text/plain": [
       "31000"
      ]
     },
     "execution_count": 124,
     "metadata": {},
     "output_type": "execute_result"
    }
   ],
   "source": [
    "len(wrong_list)"
   ]
  },
  {
   "cell_type": "code",
   "execution_count": 125,
   "id": "committed-works",
   "metadata": {},
   "outputs": [
    {
     "data": {
      "text/plain": [
       "38357"
      ]
     },
     "execution_count": 125,
     "metadata": {},
     "output_type": "execute_result"
    }
   ],
   "source": [
    "len(correct_list)"
   ]
  },
  {
   "cell_type": "code",
   "execution_count": 131,
   "id": "rural-ballet",
   "metadata": {},
   "outputs": [
    {
     "data": {
      "text/plain": [
       "0        -0.195652\n",
       "1         1.004453\n",
       "2         0.809016\n",
       "3         1.444680\n",
       "4         0.536247\n",
       "            ...   \n",
       "349943    0.545215\n",
       "349944   -0.169259\n",
       "349945    0.654163\n",
       "349946    0.425711\n",
       "349947    1.156654\n",
       "Name: target, Length: 349948, dtype: float64"
      ]
     },
     "execution_count": 131,
     "metadata": {},
     "output_type": "execute_result"
    }
   ],
   "source": [
    "df['target']"
   ]
  },
  {
   "cell_type": "code",
   "execution_count": 170,
   "id": "induced-delhi",
   "metadata": {},
   "outputs": [
    {
     "data": {
      "text/plain": [
       "249423   -45.765999\n",
       "28454    -44.879225\n",
       "244525   -41.227464\n",
       "28453    -39.498764\n",
       "244524   -37.635824\n",
       "            ...    \n",
       "249428    48.846646\n",
       "83044     51.274132\n",
       "83045     53.718828\n",
       "249427    69.293922\n",
       "249426    83.672568\n",
       "Name: target, Length: 349948, dtype: float64"
      ]
     },
     "execution_count": 170,
     "metadata": {},
     "output_type": "execute_result"
    }
   ],
   "source": [
    "df['target'].sort_values()"
   ]
  },
  {
   "cell_type": "code",
   "execution_count": 154,
   "id": "hundred-testament",
   "metadata": {},
   "outputs": [],
   "source": [
    "correct_df = df.iloc[correct_list]"
   ]
  },
  {
   "cell_type": "code",
   "execution_count": 157,
   "id": "aging-suite",
   "metadata": {},
   "outputs": [
    {
     "name": "stderr",
     "output_type": "stream",
     "text": [
      "<ipython-input-157-8c0d0774e1f1>:1: SettingWithCopyWarning: \n",
      "A value is trying to be set on a copy of a slice from a DataFrame.\n",
      "Try using .loc[row_indexer,col_indexer] = value instead\n",
      "\n",
      "See the caveats in the documentation: https://pandas.pydata.org/pandas-docs/stable/user_guide/indexing.html#returning-a-view-versus-a-copy\n",
      "  correct_df['target'] = correct_df['target'].apply(abs)\n"
     ]
    }
   ],
   "source": [
    "correct_df['target'] = correct_df['target'].apply(abs)"
   ]
  },
  {
   "cell_type": "code",
   "execution_count": 171,
   "id": "raised-saint",
   "metadata": {
    "scrolled": true
   },
   "outputs": [
    {
     "data": {
      "text/html": [
       "<div>\n",
       "<style scoped>\n",
       "    .dataframe tbody tr th:only-of-type {\n",
       "        vertical-align: middle;\n",
       "    }\n",
       "\n",
       "    .dataframe tbody tr th {\n",
       "        vertical-align: top;\n",
       "    }\n",
       "\n",
       "    .dataframe thead th {\n",
       "        text-align: right;\n",
       "    }\n",
       "</style>\n",
       "<table border=\"1\" class=\"dataframe\">\n",
       "  <thead>\n",
       "    <tr style=\"text-align: right;\">\n",
       "      <th></th>\n",
       "      <th>Unnamed: 0</th>\n",
       "      <th>Date</th>\n",
       "      <th>Open</th>\n",
       "      <th>High</th>\n",
       "      <th>Low</th>\n",
       "      <th>Close</th>\n",
       "      <th>Adj Close</th>\n",
       "      <th>Volume</th>\n",
       "      <th>ticker</th>\n",
       "      <th>volume_adi</th>\n",
       "      <th>...</th>\n",
       "      <th>momentum_roc</th>\n",
       "      <th>momentum_ppo</th>\n",
       "      <th>momentum_ppo_signal</th>\n",
       "      <th>momentum_ppo_hist</th>\n",
       "      <th>others_dr</th>\n",
       "      <th>others_dlr</th>\n",
       "      <th>others_cr</th>\n",
       "      <th>future_rolling_avg</th>\n",
       "      <th>target</th>\n",
       "      <th>trend</th>\n",
       "    </tr>\n",
       "  </thead>\n",
       "  <tbody>\n",
       "    <tr>\n",
       "      <th>562</th>\n",
       "      <td>613</td>\n",
       "      <td>2020-10-06</td>\n",
       "      <td>103.120003</td>\n",
       "      <td>103.330002</td>\n",
       "      <td>101.480003</td>\n",
       "      <td>101.629997</td>\n",
       "      <td>101.309441</td>\n",
       "      <td>1078000.0</td>\n",
       "      <td>A</td>\n",
       "      <td>5.942067e+07</td>\n",
       "      <td>...</td>\n",
       "      <td>2.264037</td>\n",
       "      <td>-10.738579</td>\n",
       "      <td>-8.137944</td>\n",
       "      <td>-2.600634</td>\n",
       "      <td>-1.444924</td>\n",
       "      <td>-1.455465</td>\n",
       "      <td>53.426933</td>\n",
       "      <td>103.843430</td>\n",
       "      <td>2.501237</td>\n",
       "      <td>1</td>\n",
       "    </tr>\n",
       "    <tr>\n",
       "      <th>563</th>\n",
       "      <td>614</td>\n",
       "      <td>2020-10-07</td>\n",
       "      <td>102.470001</td>\n",
       "      <td>104.750000</td>\n",
       "      <td>102.419998</td>\n",
       "      <td>103.879997</td>\n",
       "      <td>103.552345</td>\n",
       "      <td>1322100.0</td>\n",
       "      <td>A</td>\n",
       "      <td>5.975545e+07</td>\n",
       "      <td>...</td>\n",
       "      <td>5.859574</td>\n",
       "      <td>-7.798861</td>\n",
       "      <td>-8.070128</td>\n",
       "      <td>0.271267</td>\n",
       "      <td>2.213913</td>\n",
       "      <td>2.189762</td>\n",
       "      <td>56.823672</td>\n",
       "      <td>104.599040</td>\n",
       "      <td>1.010788</td>\n",
       "      <td>1</td>\n",
       "    </tr>\n",
       "    <tr>\n",
       "      <th>578</th>\n",
       "      <td>629</td>\n",
       "      <td>2020-10-28</td>\n",
       "      <td>104.419998</td>\n",
       "      <td>105.370003</td>\n",
       "      <td>101.580002</td>\n",
       "      <td>101.660004</td>\n",
       "      <td>101.339355</td>\n",
       "      <td>1180800.0</td>\n",
       "      <td>A</td>\n",
       "      <td>5.719255e+07</td>\n",
       "      <td>...</td>\n",
       "      <td>-3.575829</td>\n",
       "      <td>-2.154314</td>\n",
       "      <td>-7.003803</td>\n",
       "      <td>4.849490</td>\n",
       "      <td>-4.130514</td>\n",
       "      <td>-4.218244</td>\n",
       "      <td>53.472233</td>\n",
       "      <td>103.281209</td>\n",
       "      <td>1.916189</td>\n",
       "      <td>1</td>\n",
       "    </tr>\n",
       "    <tr>\n",
       "      <th>579</th>\n",
       "      <td>630</td>\n",
       "      <td>2020-10-29</td>\n",
       "      <td>102.269997</td>\n",
       "      <td>103.059998</td>\n",
       "      <td>100.769997</td>\n",
       "      <td>102.019997</td>\n",
       "      <td>101.698219</td>\n",
       "      <td>1421900.0</td>\n",
       "      <td>A</td>\n",
       "      <td>5.732294e+07</td>\n",
       "      <td>...</td>\n",
       "      <td>-3.225196</td>\n",
       "      <td>1.364586</td>\n",
       "      <td>-5.330126</td>\n",
       "      <td>6.694711</td>\n",
       "      <td>0.354115</td>\n",
       "      <td>0.353489</td>\n",
       "      <td>54.015700</td>\n",
       "      <td>104.642899</td>\n",
       "      <td>2.895507</td>\n",
       "      <td>1</td>\n",
       "    </tr>\n",
       "    <tr>\n",
       "      <th>580</th>\n",
       "      <td>631</td>\n",
       "      <td>2020-10-30</td>\n",
       "      <td>101.769997</td>\n",
       "      <td>102.349998</td>\n",
       "      <td>100.650002</td>\n",
       "      <td>102.089996</td>\n",
       "      <td>101.767998</td>\n",
       "      <td>2310000.0</td>\n",
       "      <td>A</td>\n",
       "      <td>5.892634e+07</td>\n",
       "      <td>...</td>\n",
       "      <td>-2.826957</td>\n",
       "      <td>9.955566</td>\n",
       "      <td>-2.272987</td>\n",
       "      <td>12.228553</td>\n",
       "      <td>0.068614</td>\n",
       "      <td>0.068590</td>\n",
       "      <td>54.121376</td>\n",
       "      <td>106.301649</td>\n",
       "      <td>4.454889</td>\n",
       "      <td>1</td>\n",
       "    </tr>\n",
       "    <tr>\n",
       "      <th>...</th>\n",
       "      <td>...</td>\n",
       "      <td>...</td>\n",
       "      <td>...</td>\n",
       "      <td>...</td>\n",
       "      <td>...</td>\n",
       "      <td>...</td>\n",
       "      <td>...</td>\n",
       "      <td>...</td>\n",
       "      <td>...</td>\n",
       "      <td>...</td>\n",
       "      <td>...</td>\n",
       "      <td>...</td>\n",
       "      <td>...</td>\n",
       "      <td>...</td>\n",
       "      <td>...</td>\n",
       "      <td>...</td>\n",
       "      <td>...</td>\n",
       "      <td>...</td>\n",
       "      <td>...</td>\n",
       "      <td>...</td>\n",
       "      <td>...</td>\n",
       "    </tr>\n",
       "    <tr>\n",
       "      <th>349937</th>\n",
       "      <td>378383</td>\n",
       "      <td>2021-04-12</td>\n",
       "      <td>160.070007</td>\n",
       "      <td>163.149994</td>\n",
       "      <td>158.520004</td>\n",
       "      <td>162.509995</td>\n",
       "      <td>162.268311</td>\n",
       "      <td>2916400.0</td>\n",
       "      <td>ZTS</td>\n",
       "      <td>3.383884e+07</td>\n",
       "      <td>...</td>\n",
       "      <td>4.555107</td>\n",
       "      <td>0.260603</td>\n",
       "      <td>-5.191094</td>\n",
       "      <td>5.451697</td>\n",
       "      <td>1.664053</td>\n",
       "      <td>1.650359</td>\n",
       "      <td>94.856105</td>\n",
       "      <td>164.183459</td>\n",
       "      <td>1.180236</td>\n",
       "      <td>1</td>\n",
       "    </tr>\n",
       "    <tr>\n",
       "      <th>349938</th>\n",
       "      <td>378384</td>\n",
       "      <td>2021-04-13</td>\n",
       "      <td>162.199997</td>\n",
       "      <td>164.000000</td>\n",
       "      <td>161.490005</td>\n",
       "      <td>163.470001</td>\n",
       "      <td>163.226883</td>\n",
       "      <td>2452700.0</td>\n",
       "      <td>ZTS</td>\n",
       "      <td>3.525573e+07</td>\n",
       "      <td>...</td>\n",
       "      <td>6.926999</td>\n",
       "      <td>1.484351</td>\n",
       "      <td>-3.856005</td>\n",
       "      <td>5.340356</td>\n",
       "      <td>0.590737</td>\n",
       "      <td>0.588999</td>\n",
       "      <td>96.007192</td>\n",
       "      <td>165.299799</td>\n",
       "      <td>1.269960</td>\n",
       "      <td>1</td>\n",
       "    </tr>\n",
       "    <tr>\n",
       "      <th>349939</th>\n",
       "      <td>378385</td>\n",
       "      <td>2021-04-14</td>\n",
       "      <td>164.009995</td>\n",
       "      <td>164.839996</td>\n",
       "      <td>162.630005</td>\n",
       "      <td>163.080002</td>\n",
       "      <td>162.837463</td>\n",
       "      <td>1183100.0</td>\n",
       "      <td>ZTS</td>\n",
       "      <td>3.455444e+07</td>\n",
       "      <td>...</td>\n",
       "      <td>4.438046</td>\n",
       "      <td>-2.386623</td>\n",
       "      <td>-3.562128</td>\n",
       "      <td>1.175505</td>\n",
       "      <td>-0.238576</td>\n",
       "      <td>-0.238861</td>\n",
       "      <td>95.539567</td>\n",
       "      <td>166.402423</td>\n",
       "      <td>2.189275</td>\n",
       "      <td>1</td>\n",
       "    </tr>\n",
       "    <tr>\n",
       "      <th>349940</th>\n",
       "      <td>378386</td>\n",
       "      <td>2021-04-15</td>\n",
       "      <td>163.929993</td>\n",
       "      <td>166.399994</td>\n",
       "      <td>163.929993</td>\n",
       "      <td>165.449997</td>\n",
       "      <td>165.203934</td>\n",
       "      <td>2041500.0</td>\n",
       "      <td>ZTS</td>\n",
       "      <td>3.502556e+07</td>\n",
       "      <td>...</td>\n",
       "      <td>4.457351</td>\n",
       "      <td>-2.122159</td>\n",
       "      <td>-3.274135</td>\n",
       "      <td>1.151975</td>\n",
       "      <td>1.453271</td>\n",
       "      <td>1.442813</td>\n",
       "      <td>98.381288</td>\n",
       "      <td>167.864929</td>\n",
       "      <td>1.610734</td>\n",
       "      <td>1</td>\n",
       "    </tr>\n",
       "    <tr>\n",
       "      <th>349947</th>\n",
       "      <td>378393</td>\n",
       "      <td>2021-04-26</td>\n",
       "      <td>170.880005</td>\n",
       "      <td>171.179993</td>\n",
       "      <td>169.009995</td>\n",
       "      <td>169.800003</td>\n",
       "      <td>169.800003</td>\n",
       "      <td>980500.0</td>\n",
       "      <td>ZTS</td>\n",
       "      <td>3.817784e+07</td>\n",
       "      <td>...</td>\n",
       "      <td>6.125002</td>\n",
       "      <td>-12.242425</td>\n",
       "      <td>-6.273707</td>\n",
       "      <td>-5.968718</td>\n",
       "      <td>-0.433910</td>\n",
       "      <td>-0.434854</td>\n",
       "      <td>103.597122</td>\n",
       "      <td>171.764001</td>\n",
       "      <td>1.156654</td>\n",
       "      <td>1</td>\n",
       "    </tr>\n",
       "  </tbody>\n",
       "</table>\n",
       "<p>22906 rows × 92 columns</p>\n",
       "</div>"
      ],
      "text/plain": [
       "        Unnamed: 0        Date        Open        High         Low  \\\n",
       "562            613  2020-10-06  103.120003  103.330002  101.480003   \n",
       "563            614  2020-10-07  102.470001  104.750000  102.419998   \n",
       "578            629  2020-10-28  104.419998  105.370003  101.580002   \n",
       "579            630  2020-10-29  102.269997  103.059998  100.769997   \n",
       "580            631  2020-10-30  101.769997  102.349998  100.650002   \n",
       "...            ...         ...         ...         ...         ...   \n",
       "349937      378383  2021-04-12  160.070007  163.149994  158.520004   \n",
       "349938      378384  2021-04-13  162.199997  164.000000  161.490005   \n",
       "349939      378385  2021-04-14  164.009995  164.839996  162.630005   \n",
       "349940      378386  2021-04-15  163.929993  166.399994  163.929993   \n",
       "349947      378393  2021-04-26  170.880005  171.179993  169.009995   \n",
       "\n",
       "             Close   Adj Close     Volume ticker    volume_adi  ...  \\\n",
       "562     101.629997  101.309441  1078000.0      A  5.942067e+07  ...   \n",
       "563     103.879997  103.552345  1322100.0      A  5.975545e+07  ...   \n",
       "578     101.660004  101.339355  1180800.0      A  5.719255e+07  ...   \n",
       "579     102.019997  101.698219  1421900.0      A  5.732294e+07  ...   \n",
       "580     102.089996  101.767998  2310000.0      A  5.892634e+07  ...   \n",
       "...            ...         ...        ...    ...           ...  ...   \n",
       "349937  162.509995  162.268311  2916400.0    ZTS  3.383884e+07  ...   \n",
       "349938  163.470001  163.226883  2452700.0    ZTS  3.525573e+07  ...   \n",
       "349939  163.080002  162.837463  1183100.0    ZTS  3.455444e+07  ...   \n",
       "349940  165.449997  165.203934  2041500.0    ZTS  3.502556e+07  ...   \n",
       "349947  169.800003  169.800003   980500.0    ZTS  3.817784e+07  ...   \n",
       "\n",
       "        momentum_roc  momentum_ppo  momentum_ppo_signal  momentum_ppo_hist  \\\n",
       "562         2.264037    -10.738579            -8.137944          -2.600634   \n",
       "563         5.859574     -7.798861            -8.070128           0.271267   \n",
       "578        -3.575829     -2.154314            -7.003803           4.849490   \n",
       "579        -3.225196      1.364586            -5.330126           6.694711   \n",
       "580        -2.826957      9.955566            -2.272987          12.228553   \n",
       "...              ...           ...                  ...                ...   \n",
       "349937      4.555107      0.260603            -5.191094           5.451697   \n",
       "349938      6.926999      1.484351            -3.856005           5.340356   \n",
       "349939      4.438046     -2.386623            -3.562128           1.175505   \n",
       "349940      4.457351     -2.122159            -3.274135           1.151975   \n",
       "349947      6.125002    -12.242425            -6.273707          -5.968718   \n",
       "\n",
       "        others_dr  others_dlr   others_cr  future_rolling_avg    target  trend  \n",
       "562     -1.444924   -1.455465   53.426933          103.843430  2.501237      1  \n",
       "563      2.213913    2.189762   56.823672          104.599040  1.010788      1  \n",
       "578     -4.130514   -4.218244   53.472233          103.281209  1.916189      1  \n",
       "579      0.354115    0.353489   54.015700          104.642899  2.895507      1  \n",
       "580      0.068614    0.068590   54.121376          106.301649  4.454889      1  \n",
       "...           ...         ...         ...                 ...       ...    ...  \n",
       "349937   1.664053    1.650359   94.856105          164.183459  1.180236      1  \n",
       "349938   0.590737    0.588999   96.007192          165.299799  1.269960      1  \n",
       "349939  -0.238576   -0.238861   95.539567          166.402423  2.189275      1  \n",
       "349940   1.453271    1.442813   98.381288          167.864929  1.610734      1  \n",
       "349947  -0.433910   -0.434854  103.597122          171.764001  1.156654      1  \n",
       "\n",
       "[22906 rows x 92 columns]"
      ]
     },
     "execution_count": 171,
     "metadata": {},
     "output_type": "execute_result"
    }
   ],
   "source": [
    "correct_df[correct_df['target'] > 1]"
   ]
  },
  {
   "cell_type": "code",
   "execution_count": 190,
   "id": "absolute-brush",
   "metadata": {},
   "outputs": [
    {
     "data": {
      "text/plain": [
       "7499.291483050301"
      ]
     },
     "execution_count": 190,
     "metadata": {},
     "output_type": "execute_result"
    }
   ],
   "source": [
    "correct_lower = correct_df[correct_df['target'] < 1]\n",
    "correct_lower['target'].sum()"
   ]
  },
  {
   "cell_type": "code",
   "execution_count": 159,
   "id": "everyday-camping",
   "metadata": {},
   "outputs": [
    {
     "name": "stderr",
     "output_type": "stream",
     "text": [
      "<ipython-input-159-e7555716835c>:2: SettingWithCopyWarning: \n",
      "A value is trying to be set on a copy of a slice from a DataFrame.\n",
      "Try using .loc[row_indexer,col_indexer] = value instead\n",
      "\n",
      "See the caveats in the documentation: https://pandas.pydata.org/pandas-docs/stable/user_guide/indexing.html#returning-a-view-versus-a-copy\n",
      "  wrong_df['target'] = wrong_df['target'].apply(abs)\n"
     ]
    },
    {
     "data": {
      "text/plain": [
       "49055.69436175167"
      ]
     },
     "execution_count": 159,
     "metadata": {},
     "output_type": "execute_result"
    }
   ],
   "source": [
    "wrong_df = df.iloc[wrong_list]\n",
    "wrong_df['target'] = wrong_df['target'].apply(abs)\n",
    "wrong_df['target'].sum()"
   ]
  },
  {
   "cell_type": "code",
   "execution_count": 172,
   "id": "dressed-florence",
   "metadata": {},
   "outputs": [
    {
     "data": {
      "text/html": [
       "<div>\n",
       "<style scoped>\n",
       "    .dataframe tbody tr th:only-of-type {\n",
       "        vertical-align: middle;\n",
       "    }\n",
       "\n",
       "    .dataframe tbody tr th {\n",
       "        vertical-align: top;\n",
       "    }\n",
       "\n",
       "    .dataframe thead th {\n",
       "        text-align: right;\n",
       "    }\n",
       "</style>\n",
       "<table border=\"1\" class=\"dataframe\">\n",
       "  <thead>\n",
       "    <tr style=\"text-align: right;\">\n",
       "      <th></th>\n",
       "      <th>Unnamed: 0</th>\n",
       "      <th>Date</th>\n",
       "      <th>Open</th>\n",
       "      <th>High</th>\n",
       "      <th>Low</th>\n",
       "      <th>Close</th>\n",
       "      <th>Adj Close</th>\n",
       "      <th>Volume</th>\n",
       "      <th>ticker</th>\n",
       "      <th>volume_adi</th>\n",
       "      <th>...</th>\n",
       "      <th>momentum_roc</th>\n",
       "      <th>momentum_ppo</th>\n",
       "      <th>momentum_ppo_signal</th>\n",
       "      <th>momentum_ppo_hist</th>\n",
       "      <th>others_dr</th>\n",
       "      <th>others_dlr</th>\n",
       "      <th>others_cr</th>\n",
       "      <th>future_rolling_avg</th>\n",
       "      <th>target</th>\n",
       "      <th>trend</th>\n",
       "    </tr>\n",
       "  </thead>\n",
       "  <tbody>\n",
       "    <tr>\n",
       "      <th>574</th>\n",
       "      <td>625</td>\n",
       "      <td>2020-10-22</td>\n",
       "      <td>105.320000</td>\n",
       "      <td>107.089996</td>\n",
       "      <td>105.110001</td>\n",
       "      <td>106.769997</td>\n",
       "      <td>106.433235</td>\n",
       "      <td>1064700.0</td>\n",
       "      <td>A</td>\n",
       "      <td>5.848892e+07</td>\n",
       "      <td>...</td>\n",
       "      <td>5.057561</td>\n",
       "      <td>-8.608380</td>\n",
       "      <td>-10.238524</td>\n",
       "      <td>1.630144</td>\n",
       "      <td>1.850610</td>\n",
       "      <td>1.833695</td>\n",
       "      <td>61.186594</td>\n",
       "      <td>104.722646</td>\n",
       "      <td>1.607195</td>\n",
       "      <td>0</td>\n",
       "    </tr>\n",
       "    <tr>\n",
       "      <th>575</th>\n",
       "      <td>626</td>\n",
       "      <td>2020-10-23</td>\n",
       "      <td>107.230003</td>\n",
       "      <td>107.379997</td>\n",
       "      <td>105.470001</td>\n",
       "      <td>106.169998</td>\n",
       "      <td>105.835121</td>\n",
       "      <td>833900.0</td>\n",
       "      <td>A</td>\n",
       "      <td>5.826625e+07</td>\n",
       "      <td>...</td>\n",
       "      <td>2.204468</td>\n",
       "      <td>-8.661421</td>\n",
       "      <td>-9.923103</td>\n",
       "      <td>1.261683</td>\n",
       "      <td>-0.561954</td>\n",
       "      <td>-0.563539</td>\n",
       "      <td>60.280800</td>\n",
       "      <td>103.775642</td>\n",
       "      <td>1.945931</td>\n",
       "      <td>0</td>\n",
       "    </tr>\n",
       "    <tr>\n",
       "      <th>576</th>\n",
       "      <td>627</td>\n",
       "      <td>2020-10-26</td>\n",
       "      <td>105.389999</td>\n",
       "      <td>105.820000</td>\n",
       "      <td>103.750000</td>\n",
       "      <td>104.629997</td>\n",
       "      <td>104.299980</td>\n",
       "      <td>1102000.0</td>\n",
       "      <td>A</td>\n",
       "      <td>5.810122e+07</td>\n",
       "      <td>...</td>\n",
       "      <td>0.451223</td>\n",
       "      <td>-6.285300</td>\n",
       "      <td>-9.195543</td>\n",
       "      <td>2.910243</td>\n",
       "      <td>-1.450505</td>\n",
       "      <td>-1.461127</td>\n",
       "      <td>57.955919</td>\n",
       "      <td>102.962218</td>\n",
       "      <td>1.282610</td>\n",
       "      <td>0</td>\n",
       "    </tr>\n",
       "    <tr>\n",
       "      <th>577</th>\n",
       "      <td>628</td>\n",
       "      <td>2020-10-27</td>\n",
       "      <td>105.110001</td>\n",
       "      <td>106.660004</td>\n",
       "      <td>105.110001</td>\n",
       "      <td>106.040001</td>\n",
       "      <td>105.705536</td>\n",
       "      <td>1111400.0</td>\n",
       "      <td>A</td>\n",
       "      <td>5.832350e+07</td>\n",
       "      <td>...</td>\n",
       "      <td>0.264749</td>\n",
       "      <td>-4.298709</td>\n",
       "      <td>-8.216176</td>\n",
       "      <td>3.917467</td>\n",
       "      <td>1.347609</td>\n",
       "      <td>1.338610</td>\n",
       "      <td>60.084548</td>\n",
       "      <td>103.083833</td>\n",
       "      <td>2.480194</td>\n",
       "      <td>0</td>\n",
       "    </tr>\n",
       "    <tr>\n",
       "      <th>585</th>\n",
       "      <td>636</td>\n",
       "      <td>2020-11-06</td>\n",
       "      <td>110.760002</td>\n",
       "      <td>113.349998</td>\n",
       "      <td>110.330002</td>\n",
       "      <td>112.540001</td>\n",
       "      <td>112.185036</td>\n",
       "      <td>1036600.0</td>\n",
       "      <td>A</td>\n",
       "      <td>6.020079e+07</td>\n",
       "      <td>...</td>\n",
       "      <td>7.354764</td>\n",
       "      <td>5.453845</td>\n",
       "      <td>4.615365</td>\n",
       "      <td>0.838480</td>\n",
       "      <td>1.993841</td>\n",
       "      <td>1.974225</td>\n",
       "      <td>69.897350</td>\n",
       "      <td>110.468469</td>\n",
       "      <td>1.530121</td>\n",
       "      <td>0</td>\n",
       "    </tr>\n",
       "    <tr>\n",
       "      <th>...</th>\n",
       "      <td>...</td>\n",
       "      <td>...</td>\n",
       "      <td>...</td>\n",
       "      <td>...</td>\n",
       "      <td>...</td>\n",
       "      <td>...</td>\n",
       "      <td>...</td>\n",
       "      <td>...</td>\n",
       "      <td>...</td>\n",
       "      <td>...</td>\n",
       "      <td>...</td>\n",
       "      <td>...</td>\n",
       "      <td>...</td>\n",
       "      <td>...</td>\n",
       "      <td>...</td>\n",
       "      <td>...</td>\n",
       "      <td>...</td>\n",
       "      <td>...</td>\n",
       "      <td>...</td>\n",
       "      <td>...</td>\n",
       "      <td>...</td>\n",
       "    </tr>\n",
       "    <tr>\n",
       "      <th>349913</th>\n",
       "      <td>378359</td>\n",
       "      <td>2021-03-08</td>\n",
       "      <td>148.009995</td>\n",
       "      <td>149.600006</td>\n",
       "      <td>145.020004</td>\n",
       "      <td>145.149994</td>\n",
       "      <td>144.934128</td>\n",
       "      <td>2303100.0</td>\n",
       "      <td>ZTS</td>\n",
       "      <td>3.110509e+07</td>\n",
       "      <td>...</td>\n",
       "      <td>-13.575471</td>\n",
       "      <td>15.683729</td>\n",
       "      <td>12.462775</td>\n",
       "      <td>3.220954</td>\n",
       "      <td>-0.363810</td>\n",
       "      <td>-0.364474</td>\n",
       "      <td>74.040757</td>\n",
       "      <td>150.038531</td>\n",
       "      <td>3.521878</td>\n",
       "      <td>1</td>\n",
       "    </tr>\n",
       "    <tr>\n",
       "      <th>349914</th>\n",
       "      <td>378360</td>\n",
       "      <td>2021-03-09</td>\n",
       "      <td>147.500000</td>\n",
       "      <td>153.490005</td>\n",
       "      <td>147.350006</td>\n",
       "      <td>150.139999</td>\n",
       "      <td>149.916718</td>\n",
       "      <td>3121500.0</td>\n",
       "      <td>ZTS</td>\n",
       "      <td>3.082039e+07</td>\n",
       "      <td>...</td>\n",
       "      <td>-6.162500</td>\n",
       "      <td>14.914040</td>\n",
       "      <td>12.953028</td>\n",
       "      <td>1.961012</td>\n",
       "      <td>3.437827</td>\n",
       "      <td>3.380054</td>\n",
       "      <td>80.023977</td>\n",
       "      <td>151.973651</td>\n",
       "      <td>1.372051</td>\n",
       "      <td>1</td>\n",
       "    </tr>\n",
       "    <tr>\n",
       "      <th>349915</th>\n",
       "      <td>378361</td>\n",
       "      <td>2021-03-10</td>\n",
       "      <td>150.449997</td>\n",
       "      <td>152.699997</td>\n",
       "      <td>148.570007</td>\n",
       "      <td>151.089996</td>\n",
       "      <td>150.865295</td>\n",
       "      <td>2119200.0</td>\n",
       "      <td>ZTS</td>\n",
       "      <td>3.128732e+07</td>\n",
       "      <td>...</td>\n",
       "      <td>-5.663091</td>\n",
       "      <td>11.382450</td>\n",
       "      <td>12.638912</td>\n",
       "      <td>-1.256462</td>\n",
       "      <td>0.632741</td>\n",
       "      <td>0.630747</td>\n",
       "      <td>81.163062</td>\n",
       "      <td>152.950195</td>\n",
       "      <td>1.381961</td>\n",
       "      <td>1</td>\n",
       "    </tr>\n",
       "    <tr>\n",
       "      <th>349916</th>\n",
       "      <td>378362</td>\n",
       "      <td>2021-03-11</td>\n",
       "      <td>152.660004</td>\n",
       "      <td>153.550003</td>\n",
       "      <td>152.190002</td>\n",
       "      <td>152.360001</td>\n",
       "      <td>152.133408</td>\n",
       "      <td>1456800.0</td>\n",
       "      <td>ZTS</td>\n",
       "      <td>3.019472e+07</td>\n",
       "      <td>...</td>\n",
       "      <td>-4.488468</td>\n",
       "      <td>6.448620</td>\n",
       "      <td>11.400854</td>\n",
       "      <td>-4.952234</td>\n",
       "      <td>0.840561</td>\n",
       "      <td>0.837048</td>\n",
       "      <td>82.685849</td>\n",
       "      <td>153.964685</td>\n",
       "      <td>1.203731</td>\n",
       "      <td>1</td>\n",
       "    </tr>\n",
       "    <tr>\n",
       "      <th>349917</th>\n",
       "      <td>378363</td>\n",
       "      <td>2021-03-12</td>\n",
       "      <td>152.199997</td>\n",
       "      <td>152.850006</td>\n",
       "      <td>150.679993</td>\n",
       "      <td>152.570007</td>\n",
       "      <td>152.343109</td>\n",
       "      <td>1727200.0</td>\n",
       "      <td>ZTS</td>\n",
       "      <td>3.147620e+07</td>\n",
       "      <td>...</td>\n",
       "      <td>-4.074188</td>\n",
       "      <td>3.169463</td>\n",
       "      <td>9.754576</td>\n",
       "      <td>-6.585112</td>\n",
       "      <td>0.137836</td>\n",
       "      <td>0.137741</td>\n",
       "      <td>82.937655</td>\n",
       "      <td>153.976666</td>\n",
       "      <td>1.072288</td>\n",
       "      <td>1</td>\n",
       "    </tr>\n",
       "  </tbody>\n",
       "</table>\n",
       "<p>17007 rows × 92 columns</p>\n",
       "</div>"
      ],
      "text/plain": [
       "        Unnamed: 0        Date        Open        High         Low  \\\n",
       "574            625  2020-10-22  105.320000  107.089996  105.110001   \n",
       "575            626  2020-10-23  107.230003  107.379997  105.470001   \n",
       "576            627  2020-10-26  105.389999  105.820000  103.750000   \n",
       "577            628  2020-10-27  105.110001  106.660004  105.110001   \n",
       "585            636  2020-11-06  110.760002  113.349998  110.330002   \n",
       "...            ...         ...         ...         ...         ...   \n",
       "349913      378359  2021-03-08  148.009995  149.600006  145.020004   \n",
       "349914      378360  2021-03-09  147.500000  153.490005  147.350006   \n",
       "349915      378361  2021-03-10  150.449997  152.699997  148.570007   \n",
       "349916      378362  2021-03-11  152.660004  153.550003  152.190002   \n",
       "349917      378363  2021-03-12  152.199997  152.850006  150.679993   \n",
       "\n",
       "             Close   Adj Close     Volume ticker    volume_adi  ...  \\\n",
       "574     106.769997  106.433235  1064700.0      A  5.848892e+07  ...   \n",
       "575     106.169998  105.835121   833900.0      A  5.826625e+07  ...   \n",
       "576     104.629997  104.299980  1102000.0      A  5.810122e+07  ...   \n",
       "577     106.040001  105.705536  1111400.0      A  5.832350e+07  ...   \n",
       "585     112.540001  112.185036  1036600.0      A  6.020079e+07  ...   \n",
       "...            ...         ...        ...    ...           ...  ...   \n",
       "349913  145.149994  144.934128  2303100.0    ZTS  3.110509e+07  ...   \n",
       "349914  150.139999  149.916718  3121500.0    ZTS  3.082039e+07  ...   \n",
       "349915  151.089996  150.865295  2119200.0    ZTS  3.128732e+07  ...   \n",
       "349916  152.360001  152.133408  1456800.0    ZTS  3.019472e+07  ...   \n",
       "349917  152.570007  152.343109  1727200.0    ZTS  3.147620e+07  ...   \n",
       "\n",
       "        momentum_roc  momentum_ppo  momentum_ppo_signal  momentum_ppo_hist  \\\n",
       "574         5.057561     -8.608380           -10.238524           1.630144   \n",
       "575         2.204468     -8.661421            -9.923103           1.261683   \n",
       "576         0.451223     -6.285300            -9.195543           2.910243   \n",
       "577         0.264749     -4.298709            -8.216176           3.917467   \n",
       "585         7.354764      5.453845             4.615365           0.838480   \n",
       "...              ...           ...                  ...                ...   \n",
       "349913    -13.575471     15.683729            12.462775           3.220954   \n",
       "349914     -6.162500     14.914040            12.953028           1.961012   \n",
       "349915     -5.663091     11.382450            12.638912          -1.256462   \n",
       "349916     -4.488468      6.448620            11.400854          -4.952234   \n",
       "349917     -4.074188      3.169463             9.754576          -6.585112   \n",
       "\n",
       "        others_dr  others_dlr  others_cr  future_rolling_avg    target  trend  \n",
       "574      1.850610    1.833695  61.186594          104.722646  1.607195      0  \n",
       "575     -0.561954   -0.563539  60.280800          103.775642  1.945931      0  \n",
       "576     -1.450505   -1.461127  57.955919          102.962218  1.282610      0  \n",
       "577      1.347609    1.338610  60.084548          103.083833  2.480194      0  \n",
       "585      1.993841    1.974225  69.897350          110.468469  1.530121      0  \n",
       "...           ...         ...        ...                 ...       ...    ...  \n",
       "349913  -0.363810   -0.364474  74.040757          150.038531  3.521878      1  \n",
       "349914   3.437827    3.380054  80.023977          151.973651  1.372051      1  \n",
       "349915   0.632741    0.630747  81.163062          152.950195  1.381961      1  \n",
       "349916   0.840561    0.837048  82.685849          153.964685  1.203731      1  \n",
       "349917   0.137836    0.137741  82.937655          153.976666  1.072288      1  \n",
       "\n",
       "[17007 rows x 92 columns]"
      ]
     },
     "execution_count": 172,
     "metadata": {},
     "output_type": "execute_result"
    }
   ],
   "source": [
    "wrong_df[wrong_df['target'] > 1]"
   ]
  },
  {
   "cell_type": "code",
   "execution_count": 187,
   "id": "worst-secretariat",
   "metadata": {},
   "outputs": [],
   "source": [
    " wrong_lower = wrong_df[wrong_df['target'] < 1]"
   ]
  },
  {
   "cell_type": "code",
   "execution_count": 188,
   "id": "center-saskatchewan",
   "metadata": {},
   "outputs": [
    {
     "data": {
      "text/plain": [
       "6524.070474828908"
      ]
     },
     "execution_count": 188,
     "metadata": {},
     "output_type": "execute_result"
    }
   ],
   "source": [
    " wrong_lower['target'].sum()"
   ]
  },
  {
   "cell_type": "code",
   "execution_count": 193,
   "id": "unknown-charter",
   "metadata": {},
   "outputs": [],
   "source": [
    "test_set_date = df.iloc[list(y_test.index)]"
   ]
  },
  {
   "cell_type": "code",
   "execution_count": 195,
   "id": "signal-liverpool",
   "metadata": {},
   "outputs": [
    {
     "data": {
      "text/plain": [
       "array(['2020-10-05', '2020-10-06', '2020-10-07', '2020-10-08',\n",
       "       '2020-10-09', '2020-10-12', '2020-10-13', '2020-10-14',\n",
       "       '2020-10-15', '2020-10-16', '2020-10-19', '2020-10-20',\n",
       "       '2020-10-21', '2020-10-22', '2020-10-23', '2020-10-26',\n",
       "       '2020-10-27', '2020-10-28', '2020-10-29', '2020-10-30',\n",
       "       '2020-11-02', '2020-11-03', '2020-11-04', '2020-11-05',\n",
       "       '2020-11-06', '2020-11-09', '2020-11-10', '2020-11-11',\n",
       "       '2020-11-12', '2020-11-13', '2020-11-16', '2020-11-17',\n",
       "       '2020-11-18', '2020-11-19', '2020-11-20', '2020-11-23',\n",
       "       '2020-11-24', '2020-11-25', '2020-11-27', '2020-11-30',\n",
       "       '2020-12-01', '2020-12-02', '2020-12-03', '2020-12-04',\n",
       "       '2020-12-07', '2020-12-08', '2020-12-09', '2020-12-10',\n",
       "       '2020-12-11', '2020-12-14', '2020-12-15', '2020-12-16',\n",
       "       '2020-12-17', '2020-12-18', '2020-12-21', '2020-12-22',\n",
       "       '2020-12-23', '2020-12-24', '2020-12-28', '2020-12-29',\n",
       "       '2020-12-30', '2020-12-31', '2021-01-04', '2021-01-05',\n",
       "       '2021-01-06', '2021-01-07', '2021-01-08', '2021-01-11',\n",
       "       '2021-01-12', '2021-01-13', '2021-01-14', '2021-01-15',\n",
       "       '2021-01-19', '2021-01-20', '2021-01-21', '2021-01-22',\n",
       "       '2021-01-25', '2021-01-26', '2021-01-27', '2021-01-28',\n",
       "       '2021-01-29', '2021-02-01', '2021-02-02', '2021-02-03',\n",
       "       '2021-02-04', '2021-02-05', '2021-02-08', '2021-02-09',\n",
       "       '2021-02-10', '2021-02-11', '2021-02-12', '2021-02-16',\n",
       "       '2021-02-17', '2021-02-18', '2021-02-19', '2021-02-22',\n",
       "       '2021-02-23', '2021-02-24', '2021-02-25', '2021-02-26',\n",
       "       '2021-03-01', '2021-03-02', '2021-03-03', '2021-03-04',\n",
       "       '2021-03-05', '2021-03-08', '2021-03-09', '2021-03-10',\n",
       "       '2021-03-11', '2021-03-12', '2021-03-15', '2021-03-16',\n",
       "       '2021-03-17', '2021-03-18', '2021-03-19', '2021-03-22',\n",
       "       '2021-03-23', '2021-03-24', '2021-03-25', '2021-03-26',\n",
       "       '2021-03-29', '2021-03-30', '2021-03-31', '2021-04-01',\n",
       "       '2021-04-05', '2021-04-06', '2021-04-07', '2021-04-08',\n",
       "       '2021-04-09', '2021-04-12', '2021-04-13', '2021-04-14',\n",
       "       '2021-04-15', '2021-04-16', '2021-04-19', '2021-04-20',\n",
       "       '2021-04-21', '2021-04-22', '2021-04-23', '2021-04-26',\n",
       "       '2020-10-02'], dtype=object)"
      ]
     },
     "execution_count": 195,
     "metadata": {},
     "output_type": "execute_result"
    }
   ],
   "source": [
    "test_set_date['Date'].unique()"
   ]
  },
  {
   "cell_type": "code",
   "execution_count": 196,
   "id": "planned-block",
   "metadata": {},
   "outputs": [],
   "source": [
    "feature_list=['Open', 'High', 'Low', 'Close', 'Adj Close', 'Volume',\n",
    "       'volume_adi', 'volume_obv', 'volume_cmf', 'volume_fi', 'volume_mfi',\n",
    "       'volume_em', 'volume_sma_em', 'volume_vpt', 'volume_nvi', 'volume_vwap',\n",
    "       'volatility_atr', 'volatility_bbm', 'volatility_bbh', 'volatility_bbl',\n",
    "       'volatility_bbw', 'volatility_bbp', 'volatility_bbhi',\n",
    "       'volatility_bbli', 'volatility_kcc', 'volatility_kch', 'volatility_kcl',\n",
    "       'volatility_kcw', 'volatility_kcp', 'volatility_kchi',\n",
    "       'volatility_kcli', 'volatility_dcl', 'volatility_dch', 'volatility_dcm',\n",
    "       'volatility_dcw', 'volatility_dcp', 'volatility_ui', 'trend_macd',\n",
    "       'trend_macd_signal', 'trend_macd_diff', 'trend_sma_fast',\n",
    "       'trend_sma_slow', 'trend_ema_fast', 'trend_ema_slow', 'trend_adx',\n",
    "       'trend_adx_pos', 'trend_adx_neg', 'trend_vortex_ind_pos',\n",
    "       'trend_vortex_ind_neg', 'trend_vortex_ind_diff', 'trend_trix',\n",
    "       'trend_mass_index', 'trend_cci', 'trend_dpo', 'trend_kst',\n",
    "       'trend_kst_sig', 'trend_kst_diff', 'trend_ichimoku_conv',\n",
    "       'trend_ichimoku_base', 'trend_ichimoku_a', 'trend_ichimoku_b',\n",
    "       'trend_visual_ichimoku_a', 'trend_visual_ichimoku_b', 'trend_aroon_up',\n",
    "       'trend_aroon_down', 'trend_aroon_ind', 'trend_psar_up_indicator',\n",
    "       'trend_psar_down_indicator', 'momentum_rsi', 'momentum_stoch_rsi',\n",
    "       'momentum_stoch_rsi_k', 'momentum_stoch_rsi_d', 'momentum_tsi',\n",
    "       'momentum_uo', 'momentum_stoch', 'momentum_stoch_signal', 'momentum_wr',\n",
    "       'momentum_ao', 'momentum_kama', 'momentum_roc', 'momentum_ppo',\n",
    "       'momentum_ppo_signal', 'momentum_ppo_hist', 'others_dr', 'others_dlr',\n",
    "       'others_cr']"
   ]
  },
  {
   "cell_type": "code",
   "execution_count": 197,
   "id": "neural-uzbekistan",
   "metadata": {},
   "outputs": [
    {
     "data": {
      "text/plain": [
       "86"
      ]
     },
     "execution_count": 197,
     "metadata": {},
     "output_type": "execute_result"
    }
   ],
   "source": [
    "len(feature_list)"
   ]
  },
  {
   "cell_type": "code",
   "execution_count": 205,
   "id": "adjacent-allah",
   "metadata": {},
   "outputs": [
    {
     "data": {
      "text/plain": [
       "str"
      ]
     },
     "execution_count": 205,
     "metadata": {},
     "output_type": "execute_result"
    }
   ],
   "source": [
    "type(feature_list[27])"
   ]
  },
  {
   "cell_type": "code",
   "execution_count": 208,
   "id": "affecting-increase",
   "metadata": {},
   "outputs": [
    {
     "ename": "TypeError",
     "evalue": "'numpy.float64' object is not callable",
     "output_type": "error",
     "traceback": [
      "\u001b[1;31m---------------------------------------------------------------------------\u001b[0m",
      "\u001b[1;31mTypeError\u001b[0m                                 Traceback (most recent call last)",
      "\u001b[1;32m<ipython-input-208-0f34ce692e76>\u001b[0m in \u001b[0;36m<module>\u001b[1;34m\u001b[0m\n\u001b[0;32m      1\u001b[0m \u001b[0mxgboost_features\u001b[0m \u001b[1;33m=\u001b[0m \u001b[1;33m[\u001b[0m\u001b[0mint\u001b[0m\u001b[1;33m(\u001b[0m\u001b[1;36m27\u001b[0m\u001b[1;33m)\u001b[0m\u001b[1;33m,\u001b[0m \u001b[0mint\u001b[0m\u001b[1;33m(\u001b[0m\u001b[1;36m36\u001b[0m\u001b[1;33m)\u001b[0m\u001b[1;33m,\u001b[0m \u001b[0mint\u001b[0m\u001b[1;33m(\u001b[0m\u001b[1;36m51\u001b[0m\u001b[1;33m)\u001b[0m\u001b[1;33m,\u001b[0m \u001b[0mint\u001b[0m\u001b[1;33m(\u001b[0m\u001b[1;36m63\u001b[0m\u001b[1;33m)\u001b[0m\u001b[1;33m,\u001b[0m \u001b[0mint\u001b[0m\u001b[1;33m(\u001b[0m\u001b[1;36m79\u001b[0m\u001b[1;33m)\u001b[0m\u001b[1;33m]\u001b[0m\u001b[1;33m\u001b[0m\u001b[1;33m\u001b[0m\u001b[0m\n\u001b[0;32m      2\u001b[0m \u001b[1;32mfor\u001b[0m \u001b[0mi\u001b[0m \u001b[1;32min\u001b[0m \u001b[0mxgboost_features\u001b[0m\u001b[1;33m:\u001b[0m\u001b[1;33m\u001b[0m\u001b[1;33m\u001b[0m\u001b[0m\n\u001b[1;32m----> 3\u001b[1;33m     \u001b[0mprint\u001b[0m\u001b[1;33m(\u001b[0m\u001b[0mfeature_list\u001b[0m\u001b[1;33m[\u001b[0m\u001b[0mi\u001b[0m\u001b[1;33m]\u001b[0m\u001b[1;33m)\u001b[0m\u001b[1;33m\u001b[0m\u001b[1;33m\u001b[0m\u001b[0m\n\u001b[0m",
      "\u001b[1;31mTypeError\u001b[0m: 'numpy.float64' object is not callable"
     ]
    }
   ],
   "source": [
    "xgboost_features = [int(27), int(36), int(51), int(63), int(79)]\n",
    "for i in xgboost_features:\n",
    "    print(feature_list[i])"
   ]
  },
  {
   "cell_type": "code",
   "execution_count": 212,
   "id": "blocked-breed",
   "metadata": {},
   "outputs": [
    {
     "data": {
      "text/plain": [
       "('volatility_kcw',\n",
       " 'volatility_ui',\n",
       " 'trend_mass_index',\n",
       " 'trend_aroon_up',\n",
       " 'momentum_roc')"
      ]
     },
     "execution_count": 212,
     "metadata": {},
     "output_type": "execute_result"
    }
   ],
   "source": [
    "feature_list[27], feature_list[36], feature_list[51], feature_list[63], feature_list[79]"
   ]
  },
  {
   "cell_type": "code",
   "execution_count": 220,
   "id": "initial-lindsay",
   "metadata": {},
   "outputs": [],
   "source": [
    "price_df = df[['Date', 'Adj Close', 'ticker']]"
   ]
  },
  {
   "cell_type": "code",
   "execution_count": 222,
   "id": "running-punishment",
   "metadata": {},
   "outputs": [
    {
     "data": {
      "text/html": [
       "<div>\n",
       "<style scoped>\n",
       "    .dataframe tbody tr th:only-of-type {\n",
       "        vertical-align: middle;\n",
       "    }\n",
       "\n",
       "    .dataframe tbody tr th {\n",
       "        vertical-align: top;\n",
       "    }\n",
       "\n",
       "    .dataframe thead th {\n",
       "        text-align: right;\n",
       "    }\n",
       "</style>\n",
       "<table border=\"1\" class=\"dataframe\">\n",
       "  <thead>\n",
       "    <tr style=\"text-align: right;\">\n",
       "      <th></th>\n",
       "      <th>Date</th>\n",
       "      <th>Adj Close</th>\n",
       "      <th>ticker</th>\n",
       "    </tr>\n",
       "  </thead>\n",
       "  <tbody>\n",
       "    <tr>\n",
       "      <th>0</th>\n",
       "      <td>2018-07-13</td>\n",
       "      <td>61.958466</td>\n",
       "      <td>A</td>\n",
       "    </tr>\n",
       "    <tr>\n",
       "      <th>1</th>\n",
       "      <td>2018-07-16</td>\n",
       "      <td>61.313271</td>\n",
       "      <td>A</td>\n",
       "    </tr>\n",
       "    <tr>\n",
       "      <th>2</th>\n",
       "      <td>2018-07-17</td>\n",
       "      <td>61.626083</td>\n",
       "      <td>A</td>\n",
       "    </tr>\n",
       "    <tr>\n",
       "      <th>3</th>\n",
       "      <td>2018-07-18</td>\n",
       "      <td>61.577206</td>\n",
       "      <td>A</td>\n",
       "    </tr>\n",
       "    <tr>\n",
       "      <th>4</th>\n",
       "      <td>2018-07-19</td>\n",
       "      <td>62.711189</td>\n",
       "      <td>A</td>\n",
       "    </tr>\n",
       "    <tr>\n",
       "      <th>5</th>\n",
       "      <td>2018-07-20</td>\n",
       "      <td>62.417919</td>\n",
       "      <td>A</td>\n",
       "    </tr>\n",
       "    <tr>\n",
       "      <th>6</th>\n",
       "      <td>2018-07-23</td>\n",
       "      <td>62.290844</td>\n",
       "      <td>A</td>\n",
       "    </tr>\n",
       "    <tr>\n",
       "      <th>7</th>\n",
       "      <td>2018-07-24</td>\n",
       "      <td>63.336838</td>\n",
       "      <td>A</td>\n",
       "    </tr>\n",
       "    <tr>\n",
       "      <th>8</th>\n",
       "      <td>2018-07-25</td>\n",
       "      <td>64.480591</td>\n",
       "      <td>A</td>\n",
       "    </tr>\n",
       "    <tr>\n",
       "      <th>9</th>\n",
       "      <td>2018-07-26</td>\n",
       "      <td>65.252884</td>\n",
       "      <td>A</td>\n",
       "    </tr>\n",
       "  </tbody>\n",
       "</table>\n",
       "</div>"
      ],
      "text/plain": [
       "         Date  Adj Close ticker\n",
       "0  2018-07-13  61.958466      A\n",
       "1  2018-07-16  61.313271      A\n",
       "2  2018-07-17  61.626083      A\n",
       "3  2018-07-18  61.577206      A\n",
       "4  2018-07-19  62.711189      A\n",
       "5  2018-07-20  62.417919      A\n",
       "6  2018-07-23  62.290844      A\n",
       "7  2018-07-24  63.336838      A\n",
       "8  2018-07-25  64.480591      A\n",
       "9  2018-07-26  65.252884      A"
      ]
     },
     "execution_count": 222,
     "metadata": {},
     "output_type": "execute_result"
    }
   ],
   "source": [
    "price_df.head(10)"
   ]
  },
  {
   "cell_type": "code",
   "execution_count": 218,
   "id": "behavioral-underground",
   "metadata": {},
   "outputs": [
    {
     "data": {
      "text/html": [
       "<div>\n",
       "<style scoped>\n",
       "    .dataframe tbody tr th:only-of-type {\n",
       "        vertical-align: middle;\n",
       "    }\n",
       "\n",
       "    .dataframe tbody tr th {\n",
       "        vertical-align: top;\n",
       "    }\n",
       "\n",
       "    .dataframe thead th {\n",
       "        text-align: right;\n",
       "    }\n",
       "</style>\n",
       "<table border=\"1\" class=\"dataframe\">\n",
       "  <thead>\n",
       "    <tr style=\"text-align: right;\">\n",
       "      <th></th>\n",
       "      <th>Date</th>\n",
       "      <th>Adj Close</th>\n",
       "    </tr>\n",
       "  </thead>\n",
       "  <tbody>\n",
       "    <tr>\n",
       "      <th>0</th>\n",
       "      <td>2018-07-20</td>\n",
       "      <td>62.417919</td>\n",
       "    </tr>\n",
       "    <tr>\n",
       "      <th>1</th>\n",
       "      <td>2018-07-23</td>\n",
       "      <td>62.290844</td>\n",
       "    </tr>\n",
       "    <tr>\n",
       "      <th>2</th>\n",
       "      <td>2018-07-24</td>\n",
       "      <td>63.336838</td>\n",
       "    </tr>\n",
       "    <tr>\n",
       "      <th>3</th>\n",
       "      <td>2018-07-25</td>\n",
       "      <td>64.480591</td>\n",
       "    </tr>\n",
       "    <tr>\n",
       "      <th>4</th>\n",
       "      <td>2018-07-26</td>\n",
       "      <td>65.252884</td>\n",
       "    </tr>\n",
       "    <tr>\n",
       "      <th>5</th>\n",
       "      <td>2018-07-27</td>\n",
       "      <td>64.275299</td>\n",
       "    </tr>\n",
       "    <tr>\n",
       "      <th>6</th>\n",
       "      <td>2018-07-30</td>\n",
       "      <td>63.180428</td>\n",
       "    </tr>\n",
       "    <tr>\n",
       "      <th>7</th>\n",
       "      <td>2018-07-31</td>\n",
       "      <td>64.558807</td>\n",
       "    </tr>\n",
       "    <tr>\n",
       "      <th>8</th>\n",
       "      <td>2018-08-01</td>\n",
       "      <td>63.522591</td>\n",
       "    </tr>\n",
       "    <tr>\n",
       "      <th>9</th>\n",
       "      <td>2018-08-02</td>\n",
       "      <td>63.825626</td>\n",
       "    </tr>\n",
       "  </tbody>\n",
       "</table>\n",
       "</div>"
      ],
      "text/plain": [
       "         Date  Adj Close\n",
       "0  2018-07-20  62.417919\n",
       "1  2018-07-23  62.290844\n",
       "2  2018-07-24  63.336838\n",
       "3  2018-07-25  64.480591\n",
       "4  2018-07-26  65.252884\n",
       "5  2018-07-27  64.275299\n",
       "6  2018-07-30  63.180428\n",
       "7  2018-07-31  64.558807\n",
       "8  2018-08-01  63.522591\n",
       "9  2018-08-02  63.825626"
      ]
     },
     "execution_count": 218,
     "metadata": {},
     "output_type": "execute_result"
    }
   ],
   "source": [
    "price_df.shift(periods=-5).head(10)"
   ]
  },
  {
   "cell_type": "code",
   "execution_count": 224,
   "id": "acknowledged-exclusive",
   "metadata": {},
   "outputs": [],
   "source": [
    "shifted_df = pd.DataFrame()\n",
    "for ticker in ticker_list:\n",
    "    single_ticker_df = price_df[price_df['ticker']==ticker]\n",
    "    single_ticker_df = single_ticker_df.shift(-5)\n",
    "    shifted_df = shifted_df.append(single_ticker_df)"
   ]
  },
  {
   "cell_type": "code",
   "execution_count": 227,
   "id": "increased-virgin",
   "metadata": {},
   "outputs": [
    {
     "data": {
      "text/html": [
       "<div>\n",
       "<style scoped>\n",
       "    .dataframe tbody tr th:only-of-type {\n",
       "        vertical-align: middle;\n",
       "    }\n",
       "\n",
       "    .dataframe tbody tr th {\n",
       "        vertical-align: top;\n",
       "    }\n",
       "\n",
       "    .dataframe thead th {\n",
       "        text-align: right;\n",
       "    }\n",
       "</style>\n",
       "<table border=\"1\" class=\"dataframe\">\n",
       "  <thead>\n",
       "    <tr style=\"text-align: right;\">\n",
       "      <th></th>\n",
       "      <th>Date</th>\n",
       "      <th>Adj Close</th>\n",
       "      <th>ticker</th>\n",
       "    </tr>\n",
       "  </thead>\n",
       "  <tbody>\n",
       "    <tr>\n",
       "      <th>0</th>\n",
       "      <td>2018-07-20</td>\n",
       "      <td>62.417919</td>\n",
       "      <td>A</td>\n",
       "    </tr>\n",
       "    <tr>\n",
       "      <th>1</th>\n",
       "      <td>2018-07-23</td>\n",
       "      <td>62.290844</td>\n",
       "      <td>A</td>\n",
       "    </tr>\n",
       "    <tr>\n",
       "      <th>2</th>\n",
       "      <td>2018-07-24</td>\n",
       "      <td>63.336838</td>\n",
       "      <td>A</td>\n",
       "    </tr>\n",
       "    <tr>\n",
       "      <th>3</th>\n",
       "      <td>2018-07-25</td>\n",
       "      <td>64.480591</td>\n",
       "      <td>A</td>\n",
       "    </tr>\n",
       "    <tr>\n",
       "      <th>4</th>\n",
       "      <td>2018-07-26</td>\n",
       "      <td>65.252884</td>\n",
       "      <td>A</td>\n",
       "    </tr>\n",
       "    <tr>\n",
       "      <th>...</th>\n",
       "      <td>...</td>\n",
       "      <td>...</td>\n",
       "      <td>...</td>\n",
       "    </tr>\n",
       "    <tr>\n",
       "      <th>349943</th>\n",
       "      <td>NaN</td>\n",
       "      <td>NaN</td>\n",
       "      <td>NaN</td>\n",
       "    </tr>\n",
       "    <tr>\n",
       "      <th>349944</th>\n",
       "      <td>NaN</td>\n",
       "      <td>NaN</td>\n",
       "      <td>NaN</td>\n",
       "    </tr>\n",
       "    <tr>\n",
       "      <th>349945</th>\n",
       "      <td>NaN</td>\n",
       "      <td>NaN</td>\n",
       "      <td>NaN</td>\n",
       "    </tr>\n",
       "    <tr>\n",
       "      <th>349946</th>\n",
       "      <td>NaN</td>\n",
       "      <td>NaN</td>\n",
       "      <td>NaN</td>\n",
       "    </tr>\n",
       "    <tr>\n",
       "      <th>349947</th>\n",
       "      <td>NaN</td>\n",
       "      <td>NaN</td>\n",
       "      <td>NaN</td>\n",
       "    </tr>\n",
       "  </tbody>\n",
       "</table>\n",
       "<p>349948 rows × 3 columns</p>\n",
       "</div>"
      ],
      "text/plain": [
       "              Date  Adj Close ticker\n",
       "0       2018-07-20  62.417919      A\n",
       "1       2018-07-23  62.290844      A\n",
       "2       2018-07-24  63.336838      A\n",
       "3       2018-07-25  64.480591      A\n",
       "4       2018-07-26  65.252884      A\n",
       "...            ...        ...    ...\n",
       "349943         NaN        NaN    NaN\n",
       "349944         NaN        NaN    NaN\n",
       "349945         NaN        NaN    NaN\n",
       "349946         NaN        NaN    NaN\n",
       "349947         NaN        NaN    NaN\n",
       "\n",
       "[349948 rows x 3 columns]"
      ]
     },
     "execution_count": 227,
     "metadata": {},
     "output_type": "execute_result"
    }
   ],
   "source": [
    "shifted_df"
   ]
  },
  {
   "cell_type": "code",
   "execution_count": 228,
   "id": "worst-steel",
   "metadata": {},
   "outputs": [
    {
     "name": "stderr",
     "output_type": "stream",
     "text": [
      "<ipython-input-228-b3c4523403c8>:1: SettingWithCopyWarning: \n",
      "A value is trying to be set on a copy of a slice from a DataFrame.\n",
      "Try using .loc[row_indexer,col_indexer] = value instead\n",
      "\n",
      "See the caveats in the documentation: https://pandas.pydata.org/pandas-docs/stable/user_guide/indexing.html#returning-a-view-versus-a-copy\n",
      "  price_df['future_close'] = shifted_df['Adj Close']\n"
     ]
    }
   ],
   "source": [
    "price_df['future_close'] = shifted_df['Adj Close']"
   ]
  },
  {
   "cell_type": "code",
   "execution_count": 231,
   "id": "optical-irrigation",
   "metadata": {},
   "outputs": [
    {
     "name": "stderr",
     "output_type": "stream",
     "text": [
      "<ipython-input-231-f25355b48bad>:1: SettingWithCopyWarning: \n",
      "A value is trying to be set on a copy of a slice from a DataFrame.\n",
      "Try using .loc[row_indexer,col_indexer] = value instead\n",
      "\n",
      "See the caveats in the documentation: https://pandas.pydata.org/pandas-docs/stable/user_guide/indexing.html#returning-a-view-versus-a-copy\n",
      "  price_df['return'] = ((price_df['future_close']/price_df['Adj Close'])-1)*100\n"
     ]
    }
   ],
   "source": [
    "price_df['return'] = ((price_df['future_close']/price_df['Adj Close'])-1)*100"
   ]
  },
  {
   "cell_type": "code",
   "execution_count": 233,
   "id": "close-overall",
   "metadata": {},
   "outputs": [
    {
     "data": {
      "text/plain": [
       "249426    222.123904\n",
       "83043     135.070433\n",
       "223990    118.275407\n",
       "249427    117.733988\n",
       "83044     116.087528\n",
       "             ...    \n",
       "349943           NaN\n",
       "349944           NaN\n",
       "349945           NaN\n",
       "349946           NaN\n",
       "349947           NaN\n",
       "Name: return, Length: 349948, dtype: float64"
      ]
     },
     "execution_count": 233,
     "metadata": {},
     "output_type": "execute_result"
    }
   ],
   "source": [
    "price_df['return'].sort_values(ascending=False)"
   ]
  },
  {
   "cell_type": "code",
   "execution_count": 239,
   "id": "illegal-working",
   "metadata": {},
   "outputs": [],
   "source": [
    "correct = price_df.iloc[correct_list]"
   ]
  },
  {
   "cell_type": "code",
   "execution_count": 240,
   "id": "instrumental-disability",
   "metadata": {},
   "outputs": [],
   "source": [
    "wrong = price_df.iloc[wrong_list]"
   ]
  },
  {
   "cell_type": "code",
   "execution_count": 244,
   "id": "complimentary-morning",
   "metadata": {},
   "outputs": [
    {
     "name": "stderr",
     "output_type": "stream",
     "text": [
      "<ipython-input-244-f41c9dfd379c>:1: SettingWithCopyWarning: \n",
      "A value is trying to be set on a copy of a slice from a DataFrame.\n",
      "Try using .loc[row_indexer,col_indexer] = value instead\n",
      "\n",
      "See the caveats in the documentation: https://pandas.pydata.org/pandas-docs/stable/user_guide/indexing.html#returning-a-view-versus-a-copy\n",
      "  correct['return'] = correct['return'].apply(abs)\n",
      "<ipython-input-244-f41c9dfd379c>:2: SettingWithCopyWarning: \n",
      "A value is trying to be set on a copy of a slice from a DataFrame.\n",
      "Try using .loc[row_indexer,col_indexer] = value instead\n",
      "\n",
      "See the caveats in the documentation: https://pandas.pydata.org/pandas-docs/stable/user_guide/indexing.html#returning-a-view-versus-a-copy\n",
      "  wrong['return'] = wrong['return'].apply(abs)\n"
     ]
    }
   ],
   "source": [
    "correct['return'] = correct['return'].apply(abs)\n",
    "wrong['return'] = wrong['return'].apply(abs)"
   ]
  },
  {
   "cell_type": "code",
   "execution_count": 245,
   "id": "acceptable-focus",
   "metadata": {},
   "outputs": [
    {
     "data": {
      "text/html": [
       "<div>\n",
       "<style scoped>\n",
       "    .dataframe tbody tr th:only-of-type {\n",
       "        vertical-align: middle;\n",
       "    }\n",
       "\n",
       "    .dataframe tbody tr th {\n",
       "        vertical-align: top;\n",
       "    }\n",
       "\n",
       "    .dataframe thead th {\n",
       "        text-align: right;\n",
       "    }\n",
       "</style>\n",
       "<table border=\"1\" class=\"dataframe\">\n",
       "  <thead>\n",
       "    <tr style=\"text-align: right;\">\n",
       "      <th></th>\n",
       "      <th>Date</th>\n",
       "      <th>Adj Close</th>\n",
       "      <th>ticker</th>\n",
       "      <th>future_close</th>\n",
       "      <th>return</th>\n",
       "    </tr>\n",
       "  </thead>\n",
       "  <tbody>\n",
       "    <tr>\n",
       "      <th>561</th>\n",
       "      <td>2020-10-05</td>\n",
       "      <td>102.794754</td>\n",
       "      <td>A</td>\n",
       "      <td>105.097466</td>\n",
       "      <td>2.240106</td>\n",
       "    </tr>\n",
       "    <tr>\n",
       "      <th>562</th>\n",
       "      <td>2020-10-06</td>\n",
       "      <td>101.309441</td>\n",
       "      <td>A</td>\n",
       "      <td>105.087494</td>\n",
       "      <td>3.729221</td>\n",
       "    </tr>\n",
       "    <tr>\n",
       "      <th>563</th>\n",
       "      <td>2020-10-07</td>\n",
       "      <td>103.552345</td>\n",
       "      <td>A</td>\n",
       "      <td>104.728622</td>\n",
       "      <td>1.135925</td>\n",
       "    </tr>\n",
       "    <tr>\n",
       "      <th>564</th>\n",
       "      <td>2020-10-08</td>\n",
       "      <td>103.831474</td>\n",
       "      <td>A</td>\n",
       "      <td>104.987816</td>\n",
       "      <td>1.113672</td>\n",
       "    </tr>\n",
       "    <tr>\n",
       "      <th>569</th>\n",
       "      <td>2020-10-15</td>\n",
       "      <td>104.987816</td>\n",
       "      <td>A</td>\n",
       "      <td>106.433235</td>\n",
       "      <td>1.376750</td>\n",
       "    </tr>\n",
       "    <tr>\n",
       "      <th>...</th>\n",
       "      <td>...</td>\n",
       "      <td>...</td>\n",
       "      <td>...</td>\n",
       "      <td>...</td>\n",
       "      <td>...</td>\n",
       "    </tr>\n",
       "    <tr>\n",
       "      <th>349937</th>\n",
       "      <td>2021-04-12</td>\n",
       "      <td>162.268311</td>\n",
       "      <td>ZTS</td>\n",
       "      <td>167.850006</td>\n",
       "      <td>3.439794</td>\n",
       "    </tr>\n",
       "    <tr>\n",
       "      <th>349938</th>\n",
       "      <td>2021-04-13</td>\n",
       "      <td>163.226883</td>\n",
       "      <td>ZTS</td>\n",
       "      <td>168.740005</td>\n",
       "      <td>3.377582</td>\n",
       "    </tr>\n",
       "    <tr>\n",
       "      <th>349939</th>\n",
       "      <td>2021-04-14</td>\n",
       "      <td>162.837463</td>\n",
       "      <td>ZTS</td>\n",
       "      <td>170.149994</td>\n",
       "      <td>4.490693</td>\n",
       "    </tr>\n",
       "    <tr>\n",
       "      <th>349940</th>\n",
       "      <td>2021-04-15</td>\n",
       "      <td>165.203934</td>\n",
       "      <td>ZTS</td>\n",
       "      <td>169.070007</td>\n",
       "      <td>2.340183</td>\n",
       "    </tr>\n",
       "    <tr>\n",
       "      <th>349942</th>\n",
       "      <td>2021-04-19</td>\n",
       "      <td>167.850006</td>\n",
       "      <td>ZTS</td>\n",
       "      <td>169.800003</td>\n",
       "      <td>1.161750</td>\n",
       "    </tr>\n",
       "  </tbody>\n",
       "</table>\n",
       "<p>29557 rows × 5 columns</p>\n",
       "</div>"
      ],
      "text/plain": [
       "              Date   Adj Close ticker  future_close    return\n",
       "561     2020-10-05  102.794754      A    105.097466  2.240106\n",
       "562     2020-10-06  101.309441      A    105.087494  3.729221\n",
       "563     2020-10-07  103.552345      A    104.728622  1.135925\n",
       "564     2020-10-08  103.831474      A    104.987816  1.113672\n",
       "569     2020-10-15  104.987816      A    106.433235  1.376750\n",
       "...            ...         ...    ...           ...       ...\n",
       "349937  2021-04-12  162.268311    ZTS    167.850006  3.439794\n",
       "349938  2021-04-13  163.226883    ZTS    168.740005  3.377582\n",
       "349939  2021-04-14  162.837463    ZTS    170.149994  4.490693\n",
       "349940  2021-04-15  165.203934    ZTS    169.070007  2.340183\n",
       "349942  2021-04-19  167.850006    ZTS    169.800003  1.161750\n",
       "\n",
       "[29557 rows x 5 columns]"
      ]
     },
     "execution_count": 245,
     "metadata": {},
     "output_type": "execute_result"
    }
   ],
   "source": [
    "correct[correct['return'] > 1]"
   ]
  },
  {
   "cell_type": "code",
   "execution_count": 249,
   "id": "surprised-azerbaijan",
   "metadata": {},
   "outputs": [
    {
     "data": {
      "text/plain": [
       "3620.5695299561357"
      ]
     },
     "execution_count": 249,
     "metadata": {},
     "output_type": "execute_result"
    }
   ],
   "source": [
    "correct_low = correct[correct['return'] < 1]\n",
    "correct_low['return'].sum()"
   ]
  },
  {
   "cell_type": "code",
   "execution_count": 250,
   "id": "geographic-dispatch",
   "metadata": {},
   "outputs": [
    {
     "data": {
      "text/html": [
       "<div>\n",
       "<style scoped>\n",
       "    .dataframe tbody tr th:only-of-type {\n",
       "        vertical-align: middle;\n",
       "    }\n",
       "\n",
       "    .dataframe tbody tr th {\n",
       "        vertical-align: top;\n",
       "    }\n",
       "\n",
       "    .dataframe thead th {\n",
       "        text-align: right;\n",
       "    }\n",
       "</style>\n",
       "<table border=\"1\" class=\"dataframe\">\n",
       "  <thead>\n",
       "    <tr style=\"text-align: right;\">\n",
       "      <th></th>\n",
       "      <th>Date</th>\n",
       "      <th>Adj Close</th>\n",
       "      <th>ticker</th>\n",
       "      <th>future_close</th>\n",
       "      <th>return</th>\n",
       "    </tr>\n",
       "  </thead>\n",
       "  <tbody>\n",
       "    <tr>\n",
       "      <th>574</th>\n",
       "      <td>2020-10-22</td>\n",
       "      <td>106.433235</td>\n",
       "      <td>A</td>\n",
       "      <td>101.698219</td>\n",
       "      <td>4.448813</td>\n",
       "    </tr>\n",
       "    <tr>\n",
       "      <th>575</th>\n",
       "      <td>2020-10-23</td>\n",
       "      <td>105.835121</td>\n",
       "      <td>A</td>\n",
       "      <td>101.767998</td>\n",
       "      <td>3.842886</td>\n",
       "    </tr>\n",
       "    <tr>\n",
       "      <th>585</th>\n",
       "      <td>2020-11-06</td>\n",
       "      <td>112.185036</td>\n",
       "      <td>A</td>\n",
       "      <td>109.822510</td>\n",
       "      <td>2.105919</td>\n",
       "    </tr>\n",
       "    <tr>\n",
       "      <th>586</th>\n",
       "      <td>2020-11-09</td>\n",
       "      <td>112.145164</td>\n",
       "      <td>A</td>\n",
       "      <td>109.922195</td>\n",
       "      <td>1.982225</td>\n",
       "    </tr>\n",
       "    <tr>\n",
       "      <th>591</th>\n",
       "      <td>2020-11-16</td>\n",
       "      <td>109.922195</td>\n",
       "      <td>A</td>\n",
       "      <td>111.856071</td>\n",
       "      <td>1.759314</td>\n",
       "    </tr>\n",
       "    <tr>\n",
       "      <th>...</th>\n",
       "      <td>...</td>\n",
       "      <td>...</td>\n",
       "      <td>...</td>\n",
       "      <td>...</td>\n",
       "      <td>...</td>\n",
       "    </tr>\n",
       "    <tr>\n",
       "      <th>349915</th>\n",
       "      <td>2021-03-10</td>\n",
       "      <td>150.865295</td>\n",
       "      <td>ZTS</td>\n",
       "      <td>155.937744</td>\n",
       "      <td>3.362237</td>\n",
       "    </tr>\n",
       "    <tr>\n",
       "      <th>349923</th>\n",
       "      <td>2021-03-22</td>\n",
       "      <td>155.398560</td>\n",
       "      <td>ZTS</td>\n",
       "      <td>158.154449</td>\n",
       "      <td>1.773433</td>\n",
       "    </tr>\n",
       "    <tr>\n",
       "      <th>349928</th>\n",
       "      <td>2021-03-29</td>\n",
       "      <td>158.154449</td>\n",
       "      <td>ZTS</td>\n",
       "      <td>155.668137</td>\n",
       "      <td>1.572079</td>\n",
       "    </tr>\n",
       "    <tr>\n",
       "      <th>349932</th>\n",
       "      <td>2021-04-05</td>\n",
       "      <td>158.174423</td>\n",
       "      <td>ZTS</td>\n",
       "      <td>162.268311</td>\n",
       "      <td>2.588211</td>\n",
       "    </tr>\n",
       "    <tr>\n",
       "      <th>349941</th>\n",
       "      <td>2021-04-16</td>\n",
       "      <td>167.380707</td>\n",
       "      <td>ZTS</td>\n",
       "      <td>170.539993</td>\n",
       "      <td>1.887485</td>\n",
       "    </tr>\n",
       "  </tbody>\n",
       "</table>\n",
       "<p>22875 rows × 5 columns</p>\n",
       "</div>"
      ],
      "text/plain": [
       "              Date   Adj Close ticker  future_close    return\n",
       "574     2020-10-22  106.433235      A    101.698219  4.448813\n",
       "575     2020-10-23  105.835121      A    101.767998  3.842886\n",
       "585     2020-11-06  112.185036      A    109.822510  2.105919\n",
       "586     2020-11-09  112.145164      A    109.922195  1.982225\n",
       "591     2020-11-16  109.922195      A    111.856071  1.759314\n",
       "...            ...         ...    ...           ...       ...\n",
       "349915  2021-03-10  150.865295    ZTS    155.937744  3.362237\n",
       "349923  2021-03-22  155.398560    ZTS    158.154449  1.773433\n",
       "349928  2021-03-29  158.154449    ZTS    155.668137  1.572079\n",
       "349932  2021-04-05  158.174423    ZTS    162.268311  2.588211\n",
       "349941  2021-04-16  167.380707    ZTS    170.539993  1.887485\n",
       "\n",
       "[22875 rows x 5 columns]"
      ]
     },
     "execution_count": 250,
     "metadata": {},
     "output_type": "execute_result"
    }
   ],
   "source": [
    "wrong[wrong['return'] > 1]"
   ]
  },
  {
   "cell_type": "code",
   "execution_count": 251,
   "id": "satellite-depth",
   "metadata": {},
   "outputs": [
    {
     "data": {
      "text/plain": [
       "3508.8018580950834"
      ]
     },
     "execution_count": 251,
     "metadata": {},
     "output_type": "execute_result"
    }
   ],
   "source": [
    "wrong_low = wrong[wrong['return'] < 1]\n",
    "wrong_low['return'].sum()"
   ]
  },
  {
   "cell_type": "code",
   "execution_count": 252,
   "id": "digital-mainstream",
   "metadata": {},
   "outputs": [
    {
     "data": {
      "text/plain": [
       "137542.6297196174"
      ]
     },
     "execution_count": 252,
     "metadata": {},
     "output_type": "execute_result"
    }
   ],
   "source": [
    "correct['return'].sum()"
   ]
  },
  {
   "cell_type": "code",
   "execution_count": 253,
   "id": "native-viking",
   "metadata": {},
   "outputs": [
    {
     "data": {
      "text/plain": [
       "96561.15087866593"
      ]
     },
     "execution_count": 253,
     "metadata": {},
     "output_type": "execute_result"
    }
   ],
   "source": [
    "wrong['return'].sum()"
   ]
  },
  {
   "cell_type": "code",
   "execution_count": 257,
   "id": "joint-attempt",
   "metadata": {},
   "outputs": [],
   "source": [
    "correct.groupby(['ticker']).agg({'return':'sum'})"
   ]
  },
  {
   "cell_type": "code",
   "execution_count": 256,
   "id": "activated-lexington",
   "metadata": {},
   "outputs": [],
   "source": [
    "wrong.groupby(['ticker']).agg({'return':'sum'})"
   ]
  },
  {
   "cell_type": "code",
   "execution_count": null,
   "id": "authentic-steering",
   "metadata": {},
   "outputs": [],
   "source": []
  }
 ],
 "metadata": {
  "kernelspec": {
   "display_name": "Python [conda env:.conda-metis] *",
   "language": "python",
   "name": "conda-env-.conda-metis-py"
  },
  "language_info": {
   "codemirror_mode": {
    "name": "ipython",
    "version": 3
   },
   "file_extension": ".py",
   "mimetype": "text/x-python",
   "name": "python",
   "nbconvert_exporter": "python",
   "pygments_lexer": "ipython3",
   "version": "3.8.8"
  }
 },
 "nbformat": 4,
 "nbformat_minor": 5
}
